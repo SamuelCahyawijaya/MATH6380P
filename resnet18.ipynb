{
 "cells": [
  {
   "cell_type": "code",
   "execution_count": 12,
   "metadata": {},
   "outputs": [],
   "source": [
    "import os\n",
    "import torch\n",
    "import torch.nn as nn\n",
    "import torch.optim as optim\n",
    "import torchvision\n",
    "from torchvision import transforms\n",
    "from tqdm import tqdm\n",
    "from torchvision.models import resnet18\n",
    "import numpy as np"
   ]
  },
  {
   "cell_type": "code",
   "execution_count": 2,
   "metadata": {},
   "outputs": [],
   "source": [
    "args = {\n",
    "    'learning_rate': 5e-2,\n",
    "    'batch_size': 16,\n",
    "    'num_worker': 4,\n",
    "    'random_seed': 8771795,\n",
    "    'augmentation': False,\n",
    "    'num_epoch': 20,\n",
    "    'cuda': '3'\n",
    "}"
   ]
  },
  {
   "cell_type": "code",
   "execution_count": 3,
   "metadata": {},
   "outputs": [],
   "source": [
    "# set device\n",
    "os.environ[\"CUDA_VISIBLE_DEVICES\"] = args['cuda']\n",
    "device = torch.device('cuda:0' if torch.cuda.is_available() else 'cpu')\n",
    "\n",
    "# Set random seed\n",
    "torch.random.manual_seed(args['random_seed'])\n",
    "\n",
    "# Define transformation\n",
    "test_transform = transforms.Compose([\n",
    "        transforms.Resize((224, 224)),\n",
    "        transforms.Grayscale(num_output_channels=3),\n",
    "        transforms.ToTensor(),\n",
    "        transforms.Normalize((0.5,), (0.5,))\n",
    "    ])\n",
    "\n",
    "train_valid_transform = test_transform\n",
    "if args['augmentation']:\n",
    "    train_valid_transform = transforms.Compose([\n",
    "    #         transforms.RandomResizedCrop((224, 224)),\n",
    "            transforms.Resize((224, 224)),\n",
    "            transforms.Grayscale(num_output_channels=3),\n",
    "            transforms.RandomHorizontalFlip(),\n",
    "            transforms.RandomVerticalFlip(),\n",
    "            transforms.ToTensor(),\n",
    "            transforms.RandomErasing(),\n",
    "            transforms.Normalize((0.5,), (0.5,))\n",
    "        ])\n",
    "\n",
    "# Load dataset\n",
    "require_download = os.path.exists('./dataset')\n",
    "train_valid_dataset = torchvision.datasets.FashionMNIST('./dataset', train=True, transform=train_valid_transform, download=True)\n",
    "test_dataset = torchvision.datasets.FashionMNIST('./dataset', train=False, transform=test_transform, download=True)\n",
    "\n",
    "# Split train and validation\n",
    "torch.random.manual_seed(args['random_seed'])\n",
    "train_dataset, valid_dataset = torch.utils.data.random_split(train_valid_dataset, [54000, 6000])\n",
    "\n",
    "# Generate dataloader\n",
    "train_loader = torch.utils.data.DataLoader(train_dataset, batch_size=args['batch_size'], shuffle=True, num_workers=args['num_worker'])\n",
    "valid_loader = torch.utils.data.DataLoader(valid_dataset, batch_size=args['batch_size'], shuffle=False, num_workers=args['num_worker'])\n",
    "test_loader = torch.utils.data.DataLoader(test_dataset, batch_size=args['batch_size'], shuffle=False, num_workers=args['num_worker'])"
   ]
  },
  {
   "cell_type": "code",
   "execution_count": 4,
   "metadata": {},
   "outputs": [],
   "source": [
    "model = resnet18(pretrained=True)"
   ]
  },
  {
   "cell_type": "code",
   "execution_count": 5,
   "metadata": {},
   "outputs": [],
   "source": [
    "class Identity(nn.Module):\n",
    "    def __init__(self):\n",
    "        super(Identity, self).__init__()\n",
    "        \n",
    "    def forward(self, x):\n",
    "        return x"
   ]
  },
  {
   "cell_type": "code",
   "execution_count": 6,
   "metadata": {},
   "outputs": [],
   "source": [
    "model.fc = Identity()"
   ]
  },
  {
   "cell_type": "code",
   "execution_count": 7,
   "metadata": {},
   "outputs": [
    {
     "name": "stdout",
     "output_type": "stream",
     "text": [
      "total parameters: 11176512\n"
     ]
    }
   ],
   "source": [
    "model.eval()\n",
    "print('total parameters:', sum(p.numel() for p in model.parameters()))"
   ]
  },
  {
   "cell_type": "code",
   "execution_count": 8,
   "metadata": {},
   "outputs": [],
   "source": [
    "if not os.path.exists('./features'):\n",
    "    os.mkdir('./features')"
   ]
  },
  {
   "cell_type": "code",
   "execution_count": 9,
   "metadata": {},
   "outputs": [],
   "source": [
    "model = model.to(device)"
   ]
  },
  {
   "cell_type": "code",
   "execution_count": 10,
   "metadata": {
    "scrolled": true
   },
   "outputs": [
    {
     "name": "stderr",
     "output_type": "stream",
     "text": [
      "3375it [00:46, 72.41it/s]\n"
     ]
    }
   ],
   "source": [
    "train_feats, valid_feats, test_feats = [], [], []\n",
    "train_labels, valid_labels, test_labels = [], [], []\n",
    "for iteration, (x, y) in tqdm(enumerate(train_loader)):\n",
    "    x, y = x.to(device), y.to(device)\n",
    "    features = model(x)\n",
    "    train_feats.append(features.cpu().detach().numpy())\n",
    "    train_labels.append(y.cpu().detach().numpy())\n",
    "    del x, y, features"
   ]
  },
  {
   "cell_type": "code",
   "execution_count": 13,
   "metadata": {},
   "outputs": [],
   "source": [
    "train_feats = np.concatenate(train_feats)"
   ]
  },
  {
   "cell_type": "code",
   "execution_count": 14,
   "metadata": {},
   "outputs": [
    {
     "data": {
      "text/plain": [
       "(54000, 512)"
      ]
     },
     "execution_count": 14,
     "metadata": {},
     "output_type": "execute_result"
    }
   ],
   "source": [
    "train_feats.shape"
   ]
  },
  {
   "cell_type": "code",
   "execution_count": 15,
   "metadata": {},
   "outputs": [
    {
     "data": {
      "text/plain": [
       "(54000,)"
      ]
     },
     "execution_count": 15,
     "metadata": {},
     "output_type": "execute_result"
    }
   ],
   "source": [
    "train_labels = np.concatenate(train_labels)\n",
    "train_labels.shape"
   ]
  },
  {
   "cell_type": "code",
   "execution_count": 17,
   "metadata": {},
   "outputs": [],
   "source": [
    "np.save('features/resnet18_train_feat.npy', train_feats)\n",
    "np.save('features/resnet18_train_label.npy', train_labels)"
   ]
  },
  {
   "cell_type": "code",
   "execution_count": 18,
   "metadata": {},
   "outputs": [],
   "source": [
    "del train_labels, train_feats"
   ]
  },
  {
   "cell_type": "code",
   "execution_count": 19,
   "metadata": {},
   "outputs": [
    {
     "name": "stderr",
     "output_type": "stream",
     "text": [
      "375it [00:05, 71.10it/s]\n"
     ]
    }
   ],
   "source": [
    "for iteration, (x, y) in tqdm(enumerate(valid_loader)):\n",
    "    model.eval()\n",
    "    x, y = x.to(device), y.to(device)\n",
    "    features = model(x)\n",
    "    valid_feats.append(features.cpu().detach().numpy())\n",
    "    valid_labels.append(y.cpu().detach().numpy())\n",
    "    del x, y, features"
   ]
  },
  {
   "cell_type": "code",
   "execution_count": 22,
   "metadata": {},
   "outputs": [
    {
     "data": {
      "text/plain": [
       "(6000, 512)"
      ]
     },
     "execution_count": 22,
     "metadata": {},
     "output_type": "execute_result"
    }
   ],
   "source": [
    "valid_feats = np.concatenate(valid_feats)\n",
    "valid_feats.shape"
   ]
  },
  {
   "cell_type": "code",
   "execution_count": 23,
   "metadata": {},
   "outputs": [
    {
     "data": {
      "text/plain": [
       "(6000,)"
      ]
     },
     "execution_count": 23,
     "metadata": {},
     "output_type": "execute_result"
    }
   ],
   "source": [
    "valid_labels = np.concatenate(valid_labels)\n",
    "valid_labels.shape"
   ]
  },
  {
   "cell_type": "code",
   "execution_count": 24,
   "metadata": {},
   "outputs": [],
   "source": [
    "np.save('features/resnet18_valid_feat.npy', valid_feats)\n",
    "np.save('features/resnet18_valid_label.npy', valid_labels)"
   ]
  },
  {
   "cell_type": "code",
   "execution_count": 25,
   "metadata": {},
   "outputs": [
    {
     "name": "stderr",
     "output_type": "stream",
     "text": [
      "625it [00:08, 74.24it/s]\n"
     ]
    }
   ],
   "source": [
    "for iteration, (x, y) in tqdm(enumerate(test_loader)):\n",
    "    model.eval()\n",
    "    x, y = x.to(device), y.to(device)\n",
    "    features = model(x)\n",
    "    test_feats.append(features.cpu().detach().numpy())\n",
    "    test_labels.append(y.cpu().detach().numpy())\n",
    "    del x, y, features"
   ]
  },
  {
   "cell_type": "code",
   "execution_count": 26,
   "metadata": {},
   "outputs": [
    {
     "data": {
      "text/plain": [
       "(10000, 512)"
      ]
     },
     "execution_count": 26,
     "metadata": {},
     "output_type": "execute_result"
    }
   ],
   "source": [
    "test_feats = np.concatenate(test_feats)\n",
    "test_feats.shape"
   ]
  },
  {
   "cell_type": "code",
   "execution_count": 27,
   "metadata": {},
   "outputs": [
    {
     "data": {
      "text/plain": [
       "(10000,)"
      ]
     },
     "execution_count": 27,
     "metadata": {},
     "output_type": "execute_result"
    }
   ],
   "source": [
    "test_labels = np.concatenate(test_labels)\n",
    "test_labels.shape"
   ]
  },
  {
   "cell_type": "code",
   "execution_count": 28,
   "metadata": {},
   "outputs": [],
   "source": [
    "np.save('features/resnet18_test_feat.npy', test_feats)\n",
    "np.save('features/resnet18_test_label.npy', test_labels)"
   ]
  },
  {
   "cell_type": "code",
   "execution_count": null,
   "metadata": {},
   "outputs": [],
   "source": []
  }
 ],
 "metadata": {
  "kernelspec": {
   "display_name": "Python 3",
   "language": "python",
   "name": "python3"
  },
  "language_info": {
   "codemirror_mode": {
    "name": "ipython",
    "version": 3
   },
   "file_extension": ".py",
   "mimetype": "text/x-python",
   "name": "python",
   "nbconvert_exporter": "python",
   "pygments_lexer": "ipython3",
   "version": "3.7.9"
  }
 },
 "nbformat": 4,
 "nbformat_minor": 4
}
