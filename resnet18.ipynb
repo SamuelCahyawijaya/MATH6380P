{
 "cells": [
  {
   "cell_type": "markdown",
   "metadata": {},
   "source": [
    "# Feature Extraction with ResNet18\n",
    "\n",
    "In this notebook, we extract features by ResNet18. First, we use pre-trained ResNet18 provided by PyTorch (trained on ImageNet), and then we fine-tune all the weights with Fashion-MNIST datasets.\n",
    "We also provide codes for statistical analysis on extracted features."
   ]
  },
  {
   "cell_type": "markdown",
   "metadata": {},
   "source": [
    "## Pretrained ResNet18 (Fixed)"
   ]
  },
  {
   "cell_type": "code",
   "execution_count": 1,
   "metadata": {},
   "outputs": [],
   "source": [
    "import os\n",
    "import torch\n",
    "import torch.nn as nn\n",
    "import torch.optim as optim\n",
    "import torchvision\n",
    "from torchvision import transforms\n",
    "from tqdm import tqdm\n",
    "from torchvision.models import resnet18\n",
    "import numpy as np"
   ]
  },
  {
   "cell_type": "code",
   "execution_count": 2,
   "metadata": {},
   "outputs": [],
   "source": [
    "args = {\n",
    "    'learning_rate': 5e-2,\n",
    "    'batch_size': 16,\n",
    "    'num_worker': 4,\n",
    "    'random_seed': 8771795,\n",
    "    'augmentation': False,\n",
    "    'num_epoch': 20,\n",
    "    'cuda': '3'\n",
    "}"
   ]
  },
  {
   "cell_type": "code",
   "execution_count": 3,
   "metadata": {},
   "outputs": [],
   "source": [
    "# set device\n",
    "os.environ[\"CUDA_VISIBLE_DEVICES\"] = args['cuda']\n",
    "device = torch.device('cuda:0' if torch.cuda.is_available() else 'cpu')\n",
    "\n",
    "# Set random seed\n",
    "torch.random.manual_seed(args['random_seed'])\n",
    "\n",
    "# Define transformation\n",
    "test_transform = transforms.Compose([\n",
    "        transforms.Resize((224, 224)),\n",
    "        transforms.Grayscale(num_output_channels=3),\n",
    "        transforms.ToTensor(),\n",
    "        transforms.Normalize((0.5,), (0.5,))\n",
    "    ])\n",
    "\n",
    "train_valid_transform = test_transform\n",
    "if args['augmentation']:\n",
    "    train_valid_transform = transforms.Compose([\n",
    "    #         transforms.RandomResizedCrop((224, 224)),\n",
    "            transforms.Resize((224, 224)),\n",
    "            transforms.Grayscale(num_output_channels=3),\n",
    "            transforms.RandomHorizontalFlip(),\n",
    "            transforms.RandomVerticalFlip(),\n",
    "            transforms.ToTensor(),\n",
    "            transforms.RandomErasing(),\n",
    "            transforms.Normalize((0.5,), (0.5,))\n",
    "        ])\n",
    "\n",
    "# Load dataset\n",
    "require_download = os.path.exists('./dataset')\n",
    "train_valid_dataset = torchvision.datasets.FashionMNIST('./dataset', train=True, transform=train_valid_transform, download=True)\n",
    "test_dataset = torchvision.datasets.FashionMNIST('./dataset', train=False, transform=test_transform, download=True)\n",
    "\n",
    "# Split train and validation\n",
    "torch.random.manual_seed(args['random_seed'])\n",
    "train_dataset, valid_dataset = torch.utils.data.random_split(train_valid_dataset, [54000, 6000])\n",
    "\n",
    "# Generate dataloader\n",
    "train_loader = torch.utils.data.DataLoader(train_dataset, batch_size=args['batch_size'], shuffle=True, num_workers=args['num_worker'])\n",
    "valid_loader = torch.utils.data.DataLoader(valid_dataset, batch_size=args['batch_size'], shuffle=False, num_workers=args['num_worker'])\n",
    "test_loader = torch.utils.data.DataLoader(test_dataset, batch_size=args['batch_size'], shuffle=False, num_workers=args['num_worker'])"
   ]
  },
  {
   "cell_type": "code",
   "execution_count": 4,
   "metadata": {},
   "outputs": [],
   "source": [
    "model = resnet18(pretrained=True)"
   ]
  },
  {
   "cell_type": "code",
   "execution_count": 5,
   "metadata": {},
   "outputs": [],
   "source": [
    "class Identity(nn.Module):\n",
    "    def __init__(self):\n",
    "        super(Identity, self).__init__()\n",
    "        \n",
    "    def forward(self, x):\n",
    "        return x"
   ]
  },
  {
   "cell_type": "code",
   "execution_count": 6,
   "metadata": {},
   "outputs": [],
   "source": [
    "model.fc = Identity()"
   ]
  },
  {
   "cell_type": "code",
   "execution_count": 7,
   "metadata": {},
   "outputs": [
    {
     "name": "stdout",
     "output_type": "stream",
     "text": [
      "total parameters: 11176512\n"
     ]
    }
   ],
   "source": [
    "model.eval()\n",
    "print('total parameters:', sum(p.numel() for p in model.parameters()))"
   ]
  },
  {
   "cell_type": "code",
   "execution_count": 8,
   "metadata": {},
   "outputs": [],
   "source": [
    "if not os.path.exists('./features'):\n",
    "    os.mkdir('./features')"
   ]
  },
  {
   "cell_type": "code",
   "execution_count": 9,
   "metadata": {},
   "outputs": [],
   "source": [
    "model = model.to(device)"
   ]
  },
  {
   "cell_type": "code",
   "execution_count": 10,
   "metadata": {
    "scrolled": true
   },
   "outputs": [
    {
     "name": "stderr",
     "output_type": "stream",
     "text": [
      "3375it [00:43, 76.95it/s]\n"
     ]
    }
   ],
   "source": [
    "train_feats, valid_feats, test_feats = [], [], []\n",
    "train_labels, valid_labels, test_labels = [], [], []\n",
    "for iteration, (x, y) in tqdm(enumerate(train_loader)):\n",
    "    x, y = x.to(device), y.to(device)\n",
    "    features = model(x)\n",
    "    train_feats.append(features.cpu().detach().numpy())\n",
    "    train_labels.append(y.cpu().detach().numpy())\n",
    "    del x, y, features"
   ]
  },
  {
   "cell_type": "code",
   "execution_count": 11,
   "metadata": {},
   "outputs": [],
   "source": [
    "train_feats = np.concatenate(train_feats)"
   ]
  },
  {
   "cell_type": "code",
   "execution_count": 12,
   "metadata": {},
   "outputs": [
    {
     "data": {
      "text/plain": [
       "(54000, 512)"
      ]
     },
     "execution_count": 12,
     "metadata": {},
     "output_type": "execute_result"
    }
   ],
   "source": [
    "train_feats.shape"
   ]
  },
  {
   "cell_type": "code",
   "execution_count": 13,
   "metadata": {},
   "outputs": [
    {
     "data": {
      "text/plain": [
       "(54000,)"
      ]
     },
     "execution_count": 13,
     "metadata": {},
     "output_type": "execute_result"
    }
   ],
   "source": [
    "train_labels = np.concatenate(train_labels)\n",
    "train_labels.shape"
   ]
  },
  {
   "cell_type": "code",
   "execution_count": 14,
   "metadata": {},
   "outputs": [],
   "source": [
    "np.save('features/resnet18_train_feat.npy', train_feats)\n",
    "np.save('features/resnet18_train_label.npy', train_labels)"
   ]
  },
  {
   "cell_type": "code",
   "execution_count": 16,
   "metadata": {},
   "outputs": [
    {
     "name": "stderr",
     "output_type": "stream",
     "text": [
      "375it [00:04, 76.21it/s]\n"
     ]
    }
   ],
   "source": [
    "for iteration, (x, y) in tqdm(enumerate(valid_loader)):\n",
    "    model.eval()\n",
    "    x, y = x.to(device), y.to(device)\n",
    "    features = model(x)\n",
    "    valid_feats.append(features.cpu().detach().numpy())\n",
    "    valid_labels.append(y.cpu().detach().numpy())\n",
    "    del x, y, features"
   ]
  },
  {
   "cell_type": "code",
   "execution_count": 17,
   "metadata": {},
   "outputs": [
    {
     "data": {
      "text/plain": [
       "(6000, 512)"
      ]
     },
     "execution_count": 17,
     "metadata": {},
     "output_type": "execute_result"
    }
   ],
   "source": [
    "valid_feats = np.concatenate(valid_feats)\n",
    "valid_feats.shape"
   ]
  },
  {
   "cell_type": "code",
   "execution_count": 18,
   "metadata": {},
   "outputs": [
    {
     "data": {
      "text/plain": [
       "(6000,)"
      ]
     },
     "execution_count": 18,
     "metadata": {},
     "output_type": "execute_result"
    }
   ],
   "source": [
    "valid_labels = np.concatenate(valid_labels)\n",
    "valid_labels.shape"
   ]
  },
  {
   "cell_type": "code",
   "execution_count": 19,
   "metadata": {},
   "outputs": [],
   "source": [
    "np.save('features/resnet18_valid_feat.npy', valid_feats)\n",
    "np.save('features/resnet18_valid_label.npy', valid_labels)"
   ]
  },
  {
   "cell_type": "code",
   "execution_count": 20,
   "metadata": {},
   "outputs": [
    {
     "name": "stderr",
     "output_type": "stream",
     "text": [
      "625it [00:08, 75.55it/s]\n"
     ]
    }
   ],
   "source": [
    "for iteration, (x, y) in tqdm(enumerate(test_loader)):\n",
    "    model.eval()\n",
    "    x, y = x.to(device), y.to(device)\n",
    "    features = model(x)\n",
    "    test_feats.append(features.cpu().detach().numpy())\n",
    "    test_labels.append(y.cpu().detach().numpy())\n",
    "    del x, y, features"
   ]
  },
  {
   "cell_type": "code",
   "execution_count": 21,
   "metadata": {},
   "outputs": [
    {
     "data": {
      "text/plain": [
       "(10000, 512)"
      ]
     },
     "execution_count": 21,
     "metadata": {},
     "output_type": "execute_result"
    }
   ],
   "source": [
    "test_feats = np.concatenate(test_feats)\n",
    "test_feats.shape"
   ]
  },
  {
   "cell_type": "code",
   "execution_count": 22,
   "metadata": {},
   "outputs": [
    {
     "data": {
      "text/plain": [
       "(10000,)"
      ]
     },
     "execution_count": 22,
     "metadata": {},
     "output_type": "execute_result"
    }
   ],
   "source": [
    "test_labels = np.concatenate(test_labels)\n",
    "test_labels.shape"
   ]
  },
  {
   "cell_type": "code",
   "execution_count": 23,
   "metadata": {},
   "outputs": [],
   "source": [
    "np.save('features/resnet18_test_feat.npy', test_feats)\n",
    "np.save('features/resnet18_test_label.npy', test_labels)"
   ]
  },
  {
   "cell_type": "code",
   "execution_count": null,
   "metadata": {},
   "outputs": [],
   "source": []
  },
  {
   "cell_type": "code",
   "execution_count": null,
   "metadata": {},
   "outputs": [],
   "source": []
  },
  {
   "cell_type": "code",
   "execution_count": null,
   "metadata": {},
   "outputs": [],
   "source": []
  },
  {
   "cell_type": "markdown",
   "metadata": {},
   "source": [
    "## Pretrained ResNet18 (Finetune)"
   ]
  },
  {
   "cell_type": "code",
   "execution_count": 1,
   "metadata": {},
   "outputs": [],
   "source": [
    "import os\n",
    "import torch\n",
    "import torch.nn as nn\n",
    "import torch.optim as optim\n",
    "import torchvision\n",
    "from torchvision import transforms\n",
    "from tqdm import tqdm\n",
    "from torchvision.models import resnet18\n",
    "import numpy as np"
   ]
  },
  {
   "cell_type": "code",
   "execution_count": 2,
   "metadata": {},
   "outputs": [],
   "source": [
    "args = {\n",
    "    'learning_rate': 1e-3,\n",
    "    'batch_size': 64,\n",
    "    'num_worker': 16,\n",
    "    'random_seed': 8771795,\n",
    "    'augmentation': False,\n",
    "    'num_epoch': 10,\n",
    "    'cuda': '3'\n",
    "}"
   ]
  },
  {
   "cell_type": "code",
   "execution_count": 3,
   "metadata": {},
   "outputs": [],
   "source": [
    "# set device\n",
    "os.environ[\"CUDA_VISIBLE_DEVICES\"] = args['cuda']\n",
    "device = torch.device('cuda:0' if torch.cuda.is_available() else 'cpu')\n",
    "\n",
    "# Set random seed\n",
    "torch.random.manual_seed(args['random_seed'])\n",
    "\n",
    "# Define transformation\n",
    "test_transform = transforms.Compose([\n",
    "        transforms.Resize((224, 224)),\n",
    "        transforms.Grayscale(num_output_channels=3),\n",
    "        transforms.ToTensor(),\n",
    "        transforms.Normalize((0.5,), (0.5,))\n",
    "    ])\n",
    "\n",
    "train_valid_transform = test_transform\n",
    "if args['augmentation']:\n",
    "    train_valid_transform = transforms.Compose([\n",
    "    #         transforms.RandomResizedCrop((224, 224)),\n",
    "            transforms.Resize((224, 224)),\n",
    "            transforms.Grayscale(num_output_channels=3),\n",
    "            transforms.RandomHorizontalFlip(),\n",
    "            transforms.RandomVerticalFlip(),\n",
    "            transforms.ToTensor(),\n",
    "            transforms.RandomErasing(),\n",
    "            transforms.Normalize((0.5,), (0.5,))\n",
    "        ])\n",
    "\n",
    "# Load dataset\n",
    "require_download = os.path.exists('./dataset')\n",
    "train_valid_dataset = torchvision.datasets.FashionMNIST('./dataset', train=True, transform=train_valid_transform, download=True)\n",
    "test_dataset = torchvision.datasets.FashionMNIST('./dataset', train=False, transform=test_transform, download=True)\n",
    "\n",
    "# Split train and validation\n",
    "torch.random.manual_seed(args['random_seed'])\n",
    "train_dataset, valid_dataset = torch.utils.data.random_split(train_valid_dataset, [54000, 6000])\n",
    "\n",
    "# Generate dataloader\n",
    "train_loader = torch.utils.data.DataLoader(train_dataset, batch_size=args['batch_size'], shuffle=True, num_workers=args['num_worker'])\n",
    "valid_loader = torch.utils.data.DataLoader(valid_dataset, batch_size=args['batch_size'], shuffle=False, num_workers=args['num_worker'])\n",
    "test_loader = torch.utils.data.DataLoader(test_dataset, batch_size=args['batch_size'], shuffle=False, num_workers=args['num_worker'])"
   ]
  },
  {
   "cell_type": "markdown",
   "metadata": {},
   "source": [
    "### Train only the last FC layer"
   ]
  },
  {
   "cell_type": "code",
   "execution_count": 8,
   "metadata": {},
   "outputs": [
    {
     "data": {
      "text/plain": [
       "Linear(in_features=512, out_features=1000, bias=True)"
      ]
     },
     "execution_count": 8,
     "metadata": {},
     "output_type": "execute_result"
    }
   ],
   "source": [
    "model = resnet18(pretrained=True)\n",
    "for param in model.parameters():\n",
    "    param.require_grad = False\n",
    "model.fc"
   ]
  },
  {
   "cell_type": "code",
   "execution_count": 9,
   "metadata": {},
   "outputs": [],
   "source": [
    "model.fc = nn.Sequential(nn.Linear(in_features=512, out_features=64, bias=True),\n",
    "                        nn.ReLU(),\n",
    "                        nn.Linear(in_features=64, out_features=10, bias=True))"
   ]
  },
  {
   "cell_type": "code",
   "execution_count": 10,
   "metadata": {},
   "outputs": [],
   "source": [
    "criterion = nn.CrossEntropyLoss()\n",
    "optimizer = optim.Adam(filter(lambda p: p.requires_grad, model.parameters()), lr=1e-4)"
   ]
  },
  {
   "cell_type": "code",
   "execution_count": 11,
   "metadata": {
    "scrolled": true
   },
   "outputs": [
    {
     "name": "stderr",
     "output_type": "stream",
     "text": [
      "844it [01:40,  8.40it/s]\n"
     ]
    },
    {
     "name": "stdout",
     "output_type": "stream",
     "text": [
      "epoch 1: training loss: 0.8268528820425978\n"
     ]
    },
    {
     "name": "stderr",
     "output_type": "stream",
     "text": [
      "94it [00:04, 20.90it/s]"
     ]
    },
    {
     "name": "stdout",
     "output_type": "stream",
     "text": [
      "epoch 1: valid acc: 0.7083333333333334\n"
     ]
    },
    {
     "name": "stderr",
     "output_type": "stream",
     "text": [
      "\n",
      "844it [01:39,  8.47it/s]\n"
     ]
    },
    {
     "name": "stdout",
     "output_type": "stream",
     "text": [
      "epoch 2: training loss: 0.5769611504899947\n"
     ]
    },
    {
     "name": "stderr",
     "output_type": "stream",
     "text": [
      "94it [00:04, 20.49it/s]\n"
     ]
    },
    {
     "name": "stdout",
     "output_type": "stream",
     "text": [
      "epoch 2: valid acc: 0.8391666666666666\n"
     ]
    },
    {
     "name": "stderr",
     "output_type": "stream",
     "text": [
      "844it [01:39,  8.45it/s]\n"
     ]
    },
    {
     "name": "stdout",
     "output_type": "stream",
     "text": [
      "epoch 3: training loss: 0.4647632728538242\n"
     ]
    },
    {
     "name": "stderr",
     "output_type": "stream",
     "text": [
      "94it [00:04, 21.13it/s]"
     ]
    },
    {
     "name": "stdout",
     "output_type": "stream",
     "text": [
      "epoch 3: valid acc: 0.841\n"
     ]
    },
    {
     "name": "stderr",
     "output_type": "stream",
     "text": [
      "\n",
      "844it [01:40,  8.43it/s]\n"
     ]
    },
    {
     "name": "stdout",
     "output_type": "stream",
     "text": [
      "epoch 4: training loss: 0.4138430564253816\n"
     ]
    },
    {
     "name": "stderr",
     "output_type": "stream",
     "text": [
      "94it [00:04, 20.89it/s]"
     ]
    },
    {
     "name": "stdout",
     "output_type": "stream",
     "text": [
      "epoch 4: valid acc: 0.8553333333333333\n"
     ]
    },
    {
     "name": "stderr",
     "output_type": "stream",
     "text": [
      "\n",
      "844it [01:39,  8.48it/s]\n"
     ]
    },
    {
     "name": "stdout",
     "output_type": "stream",
     "text": [
      "epoch 5: training loss: 0.38534618762290873\n"
     ]
    },
    {
     "name": "stderr",
     "output_type": "stream",
     "text": [
      "94it [00:04, 20.45it/s]"
     ]
    },
    {
     "name": "stdout",
     "output_type": "stream",
     "text": [
      "epoch 5: valid acc: 0.8678333333333333\n"
     ]
    },
    {
     "name": "stderr",
     "output_type": "stream",
     "text": [
      "\n",
      "844it [01:39,  8.46it/s]\n"
     ]
    },
    {
     "name": "stdout",
     "output_type": "stream",
     "text": [
      "epoch 6: training loss: 0.3526534652822956\n"
     ]
    },
    {
     "name": "stderr",
     "output_type": "stream",
     "text": [
      "94it [00:04, 20.42it/s]"
     ]
    },
    {
     "name": "stdout",
     "output_type": "stream",
     "text": [
      "epoch 6: valid acc: 0.885\n"
     ]
    },
    {
     "name": "stderr",
     "output_type": "stream",
     "text": [
      "\n",
      "844it [01:39,  8.47it/s]\n"
     ]
    },
    {
     "name": "stdout",
     "output_type": "stream",
     "text": [
      "epoch 7: training loss: 0.32724636404717705\n"
     ]
    },
    {
     "name": "stderr",
     "output_type": "stream",
     "text": [
      "94it [00:04, 20.93it/s]"
     ]
    },
    {
     "name": "stdout",
     "output_type": "stream",
     "text": [
      "epoch 7: valid acc: 0.8856666666666667\n"
     ]
    },
    {
     "name": "stderr",
     "output_type": "stream",
     "text": [
      "\n",
      "844it [01:40,  8.41it/s]\n"
     ]
    },
    {
     "name": "stdout",
     "output_type": "stream",
     "text": [
      "epoch 8: training loss: 0.3077429820523019\n"
     ]
    },
    {
     "name": "stderr",
     "output_type": "stream",
     "text": [
      "94it [00:04, 21.13it/s]"
     ]
    },
    {
     "name": "stdout",
     "output_type": "stream",
     "text": [
      "epoch 8: valid acc: 0.895\n"
     ]
    },
    {
     "name": "stderr",
     "output_type": "stream",
     "text": [
      "\n",
      "844it [01:40,  8.43it/s]\n"
     ]
    },
    {
     "name": "stdout",
     "output_type": "stream",
     "text": [
      "epoch 9: training loss: 0.2884376711031131\n"
     ]
    },
    {
     "name": "stderr",
     "output_type": "stream",
     "text": [
      "94it [00:04, 20.47it/s]"
     ]
    },
    {
     "name": "stdout",
     "output_type": "stream",
     "text": [
      "epoch 9: valid acc: 0.904\n"
     ]
    },
    {
     "name": "stderr",
     "output_type": "stream",
     "text": [
      "\n",
      "844it [01:40,  8.43it/s]\n"
     ]
    },
    {
     "name": "stdout",
     "output_type": "stream",
     "text": [
      "epoch 10: training loss: 0.2715510678128891\n"
     ]
    },
    {
     "name": "stderr",
     "output_type": "stream",
     "text": [
      "94it [00:04, 20.42it/s]"
     ]
    },
    {
     "name": "stdout",
     "output_type": "stream",
     "text": [
      "epoch 10: valid acc: 0.9055\n"
     ]
    },
    {
     "name": "stderr",
     "output_type": "stream",
     "text": [
      "\n",
      "844it [01:40,  8.43it/s]\n"
     ]
    },
    {
     "name": "stdout",
     "output_type": "stream",
     "text": [
      "epoch 11: training loss: 0.25453285740520715\n"
     ]
    },
    {
     "name": "stderr",
     "output_type": "stream",
     "text": [
      "94it [00:04, 20.69it/s]"
     ]
    },
    {
     "name": "stdout",
     "output_type": "stream",
     "text": [
      "epoch 11: valid acc: 0.9078333333333334\n"
     ]
    },
    {
     "name": "stderr",
     "output_type": "stream",
     "text": [
      "\n",
      "844it [01:39,  8.45it/s]\n"
     ]
    },
    {
     "name": "stdout",
     "output_type": "stream",
     "text": [
      "epoch 12: training loss: 0.24530404883379478\n"
     ]
    },
    {
     "name": "stderr",
     "output_type": "stream",
     "text": [
      "94it [00:04, 21.14it/s]"
     ]
    },
    {
     "name": "stdout",
     "output_type": "stream",
     "text": [
      "epoch 12: valid acc: 0.9118333333333334\n"
     ]
    },
    {
     "name": "stderr",
     "output_type": "stream",
     "text": [
      "\n",
      "844it [01:40,  8.43it/s]\n"
     ]
    },
    {
     "name": "stdout",
     "output_type": "stream",
     "text": [
      "epoch 13: training loss: 0.23386953853211978\n"
     ]
    },
    {
     "name": "stderr",
     "output_type": "stream",
     "text": [
      "94it [00:04, 21.19it/s]"
     ]
    },
    {
     "name": "stdout",
     "output_type": "stream",
     "text": [
      "epoch 13: valid acc: 0.9156666666666666\n"
     ]
    },
    {
     "name": "stderr",
     "output_type": "stream",
     "text": [
      "\n",
      "844it [01:39,  8.45it/s]\n"
     ]
    },
    {
     "name": "stdout",
     "output_type": "stream",
     "text": [
      "epoch 14: training loss: 0.22337310082804393\n"
     ]
    },
    {
     "name": "stderr",
     "output_type": "stream",
     "text": [
      "94it [00:04, 20.19it/s]"
     ]
    },
    {
     "name": "stdout",
     "output_type": "stream",
     "text": [
      "epoch 14: valid acc: 0.9116666666666666\n"
     ]
    },
    {
     "name": "stderr",
     "output_type": "stream",
     "text": [
      "\n",
      "844it [01:39,  8.44it/s]\n"
     ]
    },
    {
     "name": "stdout",
     "output_type": "stream",
     "text": [
      "epoch 15: training loss: 0.21625352136225778\n"
     ]
    },
    {
     "name": "stderr",
     "output_type": "stream",
     "text": [
      "94it [00:04, 20.74it/s]"
     ]
    },
    {
     "name": "stdout",
     "output_type": "stream",
     "text": [
      "epoch 15: valid acc: 0.9136666666666666\n"
     ]
    },
    {
     "name": "stderr",
     "output_type": "stream",
     "text": [
      "\n",
      "844it [01:39,  8.45it/s]\n"
     ]
    },
    {
     "name": "stdout",
     "output_type": "stream",
     "text": [
      "epoch 16: training loss: 0.20806420943589432\n"
     ]
    },
    {
     "name": "stderr",
     "output_type": "stream",
     "text": [
      "94it [00:04, 21.11it/s]"
     ]
    },
    {
     "name": "stdout",
     "output_type": "stream",
     "text": [
      "epoch 16: valid acc: 0.9201666666666667\n"
     ]
    },
    {
     "name": "stderr",
     "output_type": "stream",
     "text": [
      "\n",
      "844it [01:39,  8.49it/s]\n"
     ]
    },
    {
     "name": "stdout",
     "output_type": "stream",
     "text": [
      "epoch 17: training loss: 0.1991669972255049\n"
     ]
    },
    {
     "name": "stderr",
     "output_type": "stream",
     "text": [
      "94it [00:04, 20.54it/s]"
     ]
    },
    {
     "name": "stdout",
     "output_type": "stream",
     "text": [
      "epoch 17: valid acc: 0.9216666666666666\n"
     ]
    },
    {
     "name": "stderr",
     "output_type": "stream",
     "text": [
      "\n",
      "844it [01:39,  8.47it/s]\n"
     ]
    },
    {
     "name": "stdout",
     "output_type": "stream",
     "text": [
      "epoch 18: training loss: 0.1901252202080536\n"
     ]
    },
    {
     "name": "stderr",
     "output_type": "stream",
     "text": [
      "94it [00:04, 21.09it/s]"
     ]
    },
    {
     "name": "stdout",
     "output_type": "stream",
     "text": [
      "epoch 18: valid acc: 0.9278333333333333\n"
     ]
    },
    {
     "name": "stderr",
     "output_type": "stream",
     "text": [
      "\n",
      "844it [01:39,  8.48it/s]\n"
     ]
    },
    {
     "name": "stdout",
     "output_type": "stream",
     "text": [
      "epoch 19: training loss: 0.181012246305326\n"
     ]
    },
    {
     "name": "stderr",
     "output_type": "stream",
     "text": [
      "94it [00:04, 21.08it/s]"
     ]
    },
    {
     "name": "stdout",
     "output_type": "stream",
     "text": [
      "epoch 19: valid acc: 0.9253333333333333\n"
     ]
    },
    {
     "name": "stderr",
     "output_type": "stream",
     "text": [
      "\n",
      "844it [01:40,  8.36it/s]\n"
     ]
    },
    {
     "name": "stdout",
     "output_type": "stream",
     "text": [
      "epoch 20: training loss: 0.17510400716462549\n"
     ]
    },
    {
     "name": "stderr",
     "output_type": "stream",
     "text": [
      "94it [00:04, 20.80it/s]"
     ]
    },
    {
     "name": "stdout",
     "output_type": "stream",
     "text": [
      "epoch 20: valid acc: 0.9265\n"
     ]
    },
    {
     "name": "stderr",
     "output_type": "stream",
     "text": [
      "\n"
     ]
    }
   ],
   "source": [
    "model.to(device)\n",
    "for epoch in range(20):\n",
    "    total_train = 0\n",
    "    for iteration, (x, y) in tqdm(enumerate(train_loader)):\n",
    "        model.train()\n",
    "        x, y = x.to(device), y.to(device)\n",
    "        pred = model(x)\n",
    "        loss = criterion(pred, y)\n",
    "        total_train += loss.item()\n",
    "        loss.backward()\n",
    "        optimizer.step()\n",
    "        del x, y, pred\n",
    "    print('epoch {}: training loss: {}'.format(epoch+1, total_train/(iteration+1)))\n",
    "    torch.cuda.empty_cache()\n",
    "\n",
    "    val_acc = 0\n",
    "    for iteration, (x, y) in tqdm(enumerate(valid_loader)):\n",
    "        model.eval()\n",
    "        x, y = x.to(device), y.to(device)\n",
    "        out = model(x)\n",
    "        pred = torch.argmax(out, dim=1)\n",
    "        acc = sum(pred == y)\n",
    "        val_acc += acc.item()\n",
    "    print('epoch {}: valid acc: {}'.format(epoch+1, val_acc/6000))"
   ]
  },
  {
   "cell_type": "code",
   "execution_count": 8,
   "metadata": {},
   "outputs": [
    {
     "name": "stderr",
     "output_type": "stream",
     "text": [
      "313it [00:07, 43.65it/s]"
     ]
    },
    {
     "name": "stdout",
     "output_type": "stream",
     "text": [
      "test acc: 0.8273\n"
     ]
    },
    {
     "name": "stderr",
     "output_type": "stream",
     "text": [
      "\n"
     ]
    }
   ],
   "source": [
    "test_acc = 0\n",
    "for iteration, (x, y) in tqdm(enumerate(test_loader)):\n",
    "    model.eval()\n",
    "    x, y = x.to(device), y.to(device)\n",
    "    out = model(x)\n",
    "    pred = torch.argmax(out, dim=1)\n",
    "    acc = sum(pred == y)\n",
    "    test_acc += acc.item()\n",
    "print('test acc: {}'.format(test_acc/10000))"
   ]
  },
  {
   "cell_type": "code",
   "execution_count": 12,
   "metadata": {},
   "outputs": [
    {
     "name": "stderr",
     "output_type": "stream",
     "text": [
      "157it [00:08, 18.04it/s]"
     ]
    },
    {
     "name": "stdout",
     "output_type": "stream",
     "text": [
      "test acc: 0.9214\n"
     ]
    },
    {
     "name": "stderr",
     "output_type": "stream",
     "text": [
      "\n"
     ]
    }
   ],
   "source": [
    "test_acc = 0\n",
    "for iteration, (x, y) in tqdm(enumerate(test_loader)):\n",
    "    model.eval()\n",
    "    x, y = x.to(device), y.to(device)\n",
    "    out = model(x)\n",
    "    pred = torch.argmax(out, dim=1)\n",
    "    acc = sum(pred == y)\n",
    "    test_acc += acc.item()\n",
    "print('test acc: {}'.format(test_acc/10000))"
   ]
  },
  {
   "cell_type": "code",
   "execution_count": 13,
   "metadata": {
    "scrolled": true
   },
   "outputs": [],
   "source": [
    "torch.save(model.state_dict(), 'resnet18_before_2layers.pt')"
   ]
  },
  {
   "cell_type": "code",
   "execution_count": null,
   "metadata": {},
   "outputs": [],
   "source": []
  },
  {
   "cell_type": "markdown",
   "metadata": {},
   "source": [
    "### Fine-tune all the layers"
   ]
  },
  {
   "cell_type": "code",
   "execution_count": 54,
   "metadata": {},
   "outputs": [
    {
     "data": {
      "text/plain": [
       "<All keys matched successfully>"
      ]
     },
     "execution_count": 54,
     "metadata": {},
     "output_type": "execute_result"
    }
   ],
   "source": [
    "model = resnet18()\n",
    "model.fc = nn.Sequential(nn.Linear(in_features=512, out_features=64, bias=True),\n",
    "                        nn.ReLU(),\n",
    "                        nn.Linear(in_features=64, out_features=10, bias=True))# nn.Linear(512, 10)\n",
    "model.load_state_dict(torch.load('resnet18_before_2layers.pt'))"
   ]
  },
  {
   "cell_type": "code",
   "execution_count": 55,
   "metadata": {},
   "outputs": [],
   "source": [
    "for param in model.parameters():\n",
    "    param.require_grad = True"
   ]
  },
  {
   "cell_type": "code",
   "execution_count": 56,
   "metadata": {},
   "outputs": [],
   "source": [
    "criterion = nn.CrossEntropyLoss()\n",
    "optimizer = optim.Adam(filter(lambda p: p.requires_grad, model.parameters()), lr=2.5e-5)"
   ]
  },
  {
   "cell_type": "code",
   "execution_count": 57,
   "metadata": {
    "scrolled": true
   },
   "outputs": [
    {
     "name": "stderr",
     "output_type": "stream",
     "text": [
      "844it [01:40,  8.43it/s]\n"
     ]
    },
    {
     "name": "stdout",
     "output_type": "stream",
     "text": [
      "epoch 1: training loss: 0.1609403055571726\n"
     ]
    },
    {
     "name": "stderr",
     "output_type": "stream",
     "text": [
      "94it [00:04, 21.00it/s]"
     ]
    },
    {
     "name": "stdout",
     "output_type": "stream",
     "text": [
      "epoch 1: valid acc: 0.9315\n"
     ]
    },
    {
     "name": "stderr",
     "output_type": "stream",
     "text": [
      "\n",
      "844it [01:39,  8.48it/s]\n"
     ]
    },
    {
     "name": "stdout",
     "output_type": "stream",
     "text": [
      "epoch 2: training loss: 0.1528669126956366\n"
     ]
    },
    {
     "name": "stderr",
     "output_type": "stream",
     "text": [
      "94it [00:04, 21.03it/s]"
     ]
    },
    {
     "name": "stdout",
     "output_type": "stream",
     "text": [
      "epoch 2: valid acc: 0.9331666666666667\n"
     ]
    },
    {
     "name": "stderr",
     "output_type": "stream",
     "text": [
      "\n",
      "844it [01:40,  8.36it/s]\n"
     ]
    },
    {
     "name": "stdout",
     "output_type": "stream",
     "text": [
      "epoch 3: training loss: 0.14206225000171793\n"
     ]
    },
    {
     "name": "stderr",
     "output_type": "stream",
     "text": [
      "94it [00:04, 20.57it/s]"
     ]
    },
    {
     "name": "stdout",
     "output_type": "stream",
     "text": [
      "epoch 3: valid acc: 0.9336666666666666\n"
     ]
    },
    {
     "name": "stderr",
     "output_type": "stream",
     "text": [
      "\n",
      "844it [01:40,  8.43it/s]\n"
     ]
    },
    {
     "name": "stdout",
     "output_type": "stream",
     "text": [
      "epoch 4: training loss: 0.13181071946732875\n"
     ]
    },
    {
     "name": "stderr",
     "output_type": "stream",
     "text": [
      "94it [00:04, 20.32it/s]\n"
     ]
    },
    {
     "name": "stdout",
     "output_type": "stream",
     "text": [
      "epoch 4: valid acc: 0.9348333333333333\n"
     ]
    },
    {
     "name": "stderr",
     "output_type": "stream",
     "text": [
      "844it [01:40,  8.40it/s]\n"
     ]
    },
    {
     "name": "stdout",
     "output_type": "stream",
     "text": [
      "epoch 5: training loss: 0.12520618100156258\n"
     ]
    },
    {
     "name": "stderr",
     "output_type": "stream",
     "text": [
      "94it [00:04, 20.25it/s]"
     ]
    },
    {
     "name": "stdout",
     "output_type": "stream",
     "text": [
      "epoch 5: valid acc: 0.9345\n"
     ]
    },
    {
     "name": "stderr",
     "output_type": "stream",
     "text": [
      "\n",
      "844it [01:40,  8.43it/s]\n"
     ]
    },
    {
     "name": "stdout",
     "output_type": "stream",
     "text": [
      "epoch 6: training loss: 0.11229553897379593\n"
     ]
    },
    {
     "name": "stderr",
     "output_type": "stream",
     "text": [
      "94it [00:04, 20.26it/s]"
     ]
    },
    {
     "name": "stdout",
     "output_type": "stream",
     "text": [
      "epoch 6: valid acc: 0.9345\n"
     ]
    },
    {
     "name": "stderr",
     "output_type": "stream",
     "text": [
      "\n",
      "844it [01:40,  8.41it/s]\n"
     ]
    },
    {
     "name": "stdout",
     "output_type": "stream",
     "text": [
      "epoch 7: training loss: 0.10838407612851517\n"
     ]
    },
    {
     "name": "stderr",
     "output_type": "stream",
     "text": [
      "94it [00:04, 20.55it/s]"
     ]
    },
    {
     "name": "stdout",
     "output_type": "stream",
     "text": [
      "epoch 7: valid acc: 0.9328333333333333\n"
     ]
    },
    {
     "name": "stderr",
     "output_type": "stream",
     "text": [
      "\n",
      "844it [01:40,  8.38it/s]\n"
     ]
    },
    {
     "name": "stdout",
     "output_type": "stream",
     "text": [
      "epoch 8: training loss: 0.10007051015669984\n"
     ]
    },
    {
     "name": "stderr",
     "output_type": "stream",
     "text": [
      "94it [00:04, 20.70it/s]"
     ]
    },
    {
     "name": "stdout",
     "output_type": "stream",
     "text": [
      "epoch 8: valid acc: 0.9346666666666666\n"
     ]
    },
    {
     "name": "stderr",
     "output_type": "stream",
     "text": [
      "\n",
      "844it [01:40,  8.40it/s]\n"
     ]
    },
    {
     "name": "stdout",
     "output_type": "stream",
     "text": [
      "epoch 9: training loss: 0.09025325634852228\n"
     ]
    },
    {
     "name": "stderr",
     "output_type": "stream",
     "text": [
      "94it [00:04, 20.88it/s]"
     ]
    },
    {
     "name": "stdout",
     "output_type": "stream",
     "text": [
      "epoch 9: valid acc: 0.9343333333333333\n"
     ]
    },
    {
     "name": "stderr",
     "output_type": "stream",
     "text": [
      "\n",
      "844it [01:40,  8.38it/s]\n"
     ]
    },
    {
     "name": "stdout",
     "output_type": "stream",
     "text": [
      "epoch 10: training loss: 0.07937081417254221\n"
     ]
    },
    {
     "name": "stderr",
     "output_type": "stream",
     "text": [
      "94it [00:04, 20.71it/s]"
     ]
    },
    {
     "name": "stdout",
     "output_type": "stream",
     "text": [
      "epoch 10: valid acc: 0.936\n"
     ]
    },
    {
     "name": "stderr",
     "output_type": "stream",
     "text": [
      "\n"
     ]
    }
   ],
   "source": [
    "model.to(device)\n",
    "for epoch in range(10):\n",
    "    total_train = 0\n",
    "    for iteration, (x, y) in tqdm(enumerate(train_loader)):\n",
    "        model.train()\n",
    "        x, y = x.to(device), y.to(device)\n",
    "        pred = model(x)\n",
    "        loss = criterion(pred, y)\n",
    "        total_train += loss.item()\n",
    "        loss.backward()\n",
    "        optimizer.step()\n",
    "        del x, y, pred\n",
    "    print('epoch {}: training loss: {}'.format(epoch+1, total_train/(iteration+1)))\n",
    "    torch.cuda.empty_cache()\n",
    "\n",
    "    val_acc = 0\n",
    "    for iteration, (x, y) in tqdm(enumerate(valid_loader)):\n",
    "        model.eval()\n",
    "        x, y = x.to(device), y.to(device)\n",
    "        out = model(x)\n",
    "        pred = torch.argmax(out, dim=1)\n",
    "        acc = sum(pred == y)\n",
    "        val_acc += acc.item()\n",
    "    print('epoch {}: valid acc: {}'.format(epoch+1, val_acc/6000))"
   ]
  },
  {
   "cell_type": "code",
   "execution_count": 58,
   "metadata": {},
   "outputs": [
    {
     "name": "stderr",
     "output_type": "stream",
     "text": [
      "157it [00:07, 22.32it/s]"
     ]
    },
    {
     "name": "stdout",
     "output_type": "stream",
     "text": [
      "test acc: 0.9322\n"
     ]
    },
    {
     "name": "stderr",
     "output_type": "stream",
     "text": [
      "\n"
     ]
    }
   ],
   "source": [
    "test_acc = 0\n",
    "for iteration, (x, y) in tqdm(enumerate(test_loader)):\n",
    "    model.eval()\n",
    "    x, y = x.to(device), y.to(device)\n",
    "    out = model(x)\n",
    "    pred = torch.argmax(out, dim=1)\n",
    "    acc = sum(pred == y)\n",
    "    test_acc += acc.item()\n",
    "print('test acc: {}'.format(test_acc/10000))"
   ]
  },
  {
   "cell_type": "code",
   "execution_count": 59,
   "metadata": {},
   "outputs": [],
   "source": [
    "torch.save(model.state_dict(), 'resnet18_after_2layers.pt')"
   ]
  },
  {
   "cell_type": "code",
   "execution_count": null,
   "metadata": {},
   "outputs": [],
   "source": []
  },
  {
   "cell_type": "markdown",
   "metadata": {},
   "source": [
    "## Feature Extraction & Compute F1"
   ]
  },
  {
   "cell_type": "code",
   "execution_count": 1,
   "metadata": {},
   "outputs": [],
   "source": [
    "import os\n",
    "import torch\n",
    "import torch.nn as nn\n",
    "from sklearn.metrics import precision_recall_curve, average_precision_score, f1_score\n",
    "import matplotlib.pyplot as plt\n",
    "import numpy as np\n",
    "import torchvision\n",
    "from torchvision.models import resnet18\n",
    "from torchvision import transforms\n",
    "from tqdm import tqdm"
   ]
  },
  {
   "cell_type": "code",
   "execution_count": 2,
   "metadata": {},
   "outputs": [],
   "source": [
    "args = {\n",
    "    'learning_rate': 1e-3,\n",
    "    'batch_size': 32,\n",
    "    'num_worker': 4,\n",
    "    'random_seed': 8771795,\n",
    "    'augmentation': False,\n",
    "    'num_epoch': 10,\n",
    "    'cuda': '5'\n",
    "}"
   ]
  },
  {
   "cell_type": "code",
   "execution_count": 3,
   "metadata": {},
   "outputs": [],
   "source": [
    "# set device\n",
    "os.environ[\"CUDA_VISIBLE_DEVICES\"] = args['cuda']\n",
    "device = torch.device('cuda:0' if torch.cuda.is_available() else 'cpu')\n",
    "\n",
    "# Set random seed\n",
    "torch.random.manual_seed(args['random_seed'])\n",
    "\n",
    "# Define transformation\n",
    "test_transform = transforms.Compose([\n",
    "        transforms.Resize((224, 224)),\n",
    "        transforms.Grayscale(num_output_channels=3),\n",
    "        transforms.ToTensor(),\n",
    "        transforms.Normalize((0.5,), (0.5,))\n",
    "    ])\n",
    "\n",
    "train_valid_transform = test_transform\n",
    "if args['augmentation']:\n",
    "    train_valid_transform = transforms.Compose([\n",
    "    #         transforms.RandomResizedCrop((224, 224)),\n",
    "            transforms.Resize((224, 224)),\n",
    "            transforms.Grayscale(num_output_channels=3),\n",
    "            transforms.RandomHorizontalFlip(),\n",
    "            transforms.RandomVerticalFlip(),\n",
    "            transforms.ToTensor(),\n",
    "            transforms.RandomErasing(),\n",
    "            transforms.Normalize((0.5,), (0.5,))\n",
    "        ])\n",
    "\n",
    "# Load dataset\n",
    "require_download = os.path.exists('./dataset')\n",
    "train_valid_dataset = torchvision.datasets.FashionMNIST('./dataset', train=True, transform=train_valid_transform, download=True)\n",
    "test_dataset = torchvision.datasets.FashionMNIST('./dataset', train=False, transform=test_transform, download=True)\n",
    "\n",
    "# Split train and validation\n",
    "torch.random.manual_seed(args['random_seed'])\n",
    "train_dataset, valid_dataset = torch.utils.data.random_split(train_valid_dataset, [54000, 6000])\n",
    "\n",
    "# Generate dataloader\n",
    "train_loader = torch.utils.data.DataLoader(train_dataset, batch_size=args['batch_size'], shuffle=True, num_workers=args['num_worker'])\n",
    "valid_loader = torch.utils.data.DataLoader(valid_dataset, batch_size=args['batch_size'], shuffle=False, num_workers=args['num_worker'])\n",
    "test_loader = torch.utils.data.DataLoader(test_dataset, batch_size=args['batch_size'], shuffle=False, num_workers=args['num_worker'])"
   ]
  },
  {
   "cell_type": "code",
   "execution_count": 4,
   "metadata": {},
   "outputs": [
    {
     "data": {
      "text/plain": [
       "<All keys matched successfully>"
      ]
     },
     "execution_count": 4,
     "metadata": {},
     "output_type": "execute_result"
    }
   ],
   "source": [
    "# pretrained ResNet18\n",
    "model = resnet18()\n",
    "# model.fc = nn.Linear(512, 10)\n",
    "model.fc = nn.Sequential(nn.Linear(in_features=512, out_features=64, bias=True),\n",
    "                        nn.ReLU(),\n",
    "                        nn.Linear(in_features=64, out_features=10, bias=True))\n",
    "model.load_state_dict(torch.load('resnet18_before_2layers.pt'))"
   ]
  },
  {
   "cell_type": "code",
   "execution_count": 5,
   "metadata": {},
   "outputs": [
    {
     "name": "stderr",
     "output_type": "stream",
     "text": [
      "313it [00:08, 37.25it/s]"
     ]
    },
    {
     "name": "stdout",
     "output_type": "stream",
     "text": [
      "test acc: 0.9214\n"
     ]
    },
    {
     "name": "stderr",
     "output_type": "stream",
     "text": [
      "\n"
     ]
    }
   ],
   "source": [
    "model.to(device)\n",
    "test_acc = 0\n",
    "labels, preds = [], []\n",
    "for iteration, (x, y) in tqdm(enumerate(test_loader)):\n",
    "    model.eval()\n",
    "    x, y = x.to(device), y.to(device)\n",
    "    out = model(x)\n",
    "    pred = torch.argmax(out, dim=1)\n",
    "    acc = sum(pred == y)\n",
    "    test_acc += acc.item()\n",
    "    labels.append(y.cpu().detach().numpy())\n",
    "    preds.append(pred.cpu().detach().numpy())\n",
    "    del out, pred, x, y\n",
    "print('test acc: {}'.format(test_acc/10000))"
   ]
  },
  {
   "cell_type": "code",
   "execution_count": 6,
   "metadata": {},
   "outputs": [],
   "source": [
    "labels = np.concatenate(labels)\n",
    "preds = np.concatenate(preds)\n",
    "assert labels.shape == preds.shape"
   ]
  },
  {
   "cell_type": "code",
   "execution_count": 10,
   "metadata": {},
   "outputs": [],
   "source": [
    "from sklearn.metrics import precision_recall_fscore_support as score\n",
    "from sklearn.metrics import recall_score, f1_score, precision_score, accuracy_score"
   ]
  },
  {
   "cell_type": "code",
   "execution_count": 11,
   "metadata": {},
   "outputs": [],
   "source": [
    "from tabulate import tabulate"
   ]
  },
  {
   "cell_type": "code",
   "execution_count": 12,
   "metadata": {},
   "outputs": [],
   "source": [
    "precision, recall, fscore, support = score(labels, preds)\n",
    "pr = precision_score(labels, preds, average='macro')\n",
    "re = recall_score(labels, preds, average='macro')\n",
    "fs = f1_score(labels, preds, average='macro')\n",
    "ac = accuracy_score(labels, preds)\n",
    "\n",
    "table = [[i, p, r, f, s] for i, p, r, f, s in zip(range(10), precision, recall, fscore, support)]\n",
    "table.append(['overall', pr, re, fs, 10000])"
   ]
  },
  {
   "cell_type": "code",
   "execution_count": 13,
   "metadata": {},
   "outputs": [
    {
     "name": "stdout",
     "output_type": "stream",
     "text": [
      "class      precision    recall        f1    support\n",
      "-------  -----------  --------  --------  ---------\n",
      "0           0.895127    0.845   0.869342       1000\n",
      "1           0.993896    0.977   0.985376       1000\n",
      "2           0.917184    0.886   0.901322       1000\n",
      "3           0.905314    0.937   0.920885       1000\n",
      "4           0.882773    0.866   0.874306       1000\n",
      "5           0.988832    0.974   0.98136        1000\n",
      "6           0.741636    0.798   0.768786       1000\n",
      "7           0.95155     0.982   0.966535       1000\n",
      "8           0.973373    0.987   0.980139       1000\n",
      "9           0.977642    0.962   0.969758       1000\n",
      "overall     0.922733    0.9214  0.921781      10000\n"
     ]
    }
   ],
   "source": [
    "print(tabulate(table, headers=['class', 'precision', 'recall', 'f1', 'support']))"
   ]
  },
  {
   "cell_type": "code",
   "execution_count": null,
   "metadata": {},
   "outputs": [],
   "source": []
  },
  {
   "cell_type": "code",
   "execution_count": 15,
   "metadata": {},
   "outputs": [
    {
     "data": {
      "text/plain": [
       "<All keys matched successfully>"
      ]
     },
     "execution_count": 15,
     "metadata": {},
     "output_type": "execute_result"
    }
   ],
   "source": [
    "# pretrained ResNet18 + finetune\n",
    "model = resnet18()\n",
    "model.fc = nn.Sequential(nn.Linear(in_features=512, out_features=64, bias=True),\n",
    "                        nn.ReLU(),\n",
    "                        nn.Linear(in_features=64, out_features=10, bias=True))\n",
    "model.load_state_dict(torch.load('resnet18_after_2layers.pt'))"
   ]
  },
  {
   "cell_type": "code",
   "execution_count": 16,
   "metadata": {},
   "outputs": [
    {
     "name": "stderr",
     "output_type": "stream",
     "text": [
      "313it [00:07, 41.34it/s]"
     ]
    },
    {
     "name": "stdout",
     "output_type": "stream",
     "text": [
      "test acc: 0.9322\n"
     ]
    },
    {
     "name": "stderr",
     "output_type": "stream",
     "text": [
      "\n"
     ]
    }
   ],
   "source": [
    "model.to(device)\n",
    "test_acc = 0\n",
    "labels, preds = [], []\n",
    "for iteration, (x, y) in tqdm(enumerate(test_loader)):\n",
    "    model.eval()\n",
    "    x, y = x.to(device), y.to(device)\n",
    "    out = model(x)\n",
    "    pred = torch.argmax(out, dim=1)\n",
    "    acc = sum(pred == y)\n",
    "    test_acc += acc.item()\n",
    "    labels.append(y.cpu().detach().numpy())\n",
    "    preds.append(pred.cpu().detach().numpy())\n",
    "    del out, pred, x, y\n",
    "print('test acc: {}'.format(test_acc/10000))"
   ]
  },
  {
   "cell_type": "code",
   "execution_count": 17,
   "metadata": {},
   "outputs": [],
   "source": [
    "labels = np.concatenate(labels)\n",
    "preds = np.concatenate(preds)\n",
    "assert labels.shape == preds.shape"
   ]
  },
  {
   "cell_type": "code",
   "execution_count": 18,
   "metadata": {},
   "outputs": [
    {
     "name": "stdout",
     "output_type": "stream",
     "text": [
      "class      precision    recall        f1    support\n",
      "-------  -----------  --------  --------  ---------\n",
      "0           0.895277    0.872   0.883485       1000\n",
      "1           0.993939    0.984   0.988945       1000\n",
      "2           0.906746    0.914   0.910359       1000\n",
      "3           0.939271    0.928   0.933602       1000\n",
      "4           0.875954    0.918   0.896484       1000\n",
      "5           0.988922    0.982   0.985449       1000\n",
      "6           0.806288    0.795   0.800604       1000\n",
      "7           0.955209    0.981   0.967933       1000\n",
      "8           0.983085    0.988   0.985536       1000\n",
      "9           0.978593    0.96    0.969207       1000\n",
      "overall     0.932329    0.9322  0.93216       10000\n"
     ]
    }
   ],
   "source": [
    "precision, recall, fscore, support = score(labels, preds)\n",
    "pr = precision_score(labels, preds, average='macro')\n",
    "re = recall_score(labels, preds, average='macro')\n",
    "fs = f1_score(labels, preds, average='macro')\n",
    "ac = accuracy_score(labels, preds)\n",
    "\n",
    "table = [[i, p, r, f, s] for i, p, r, f, s in zip(range(10), precision, recall, fscore, support)]\n",
    "table.append(['overall', pr, re, fs, 10000])\n",
    "print(tabulate(table, headers=['class', 'precision', 'recall', 'f1', 'support']))"
   ]
  },
  {
   "cell_type": "code",
   "execution_count": 19,
   "metadata": {},
   "outputs": [],
   "source": [
    "# save labels & features\n",
    "class Identity(nn.Module):\n",
    "    def __init__(self):\n",
    "        super(Identity, self).__init__()\n",
    "        \n",
    "    def forward(self, x):\n",
    "        return x\n",
    "model.fc = Identity()"
   ]
  },
  {
   "cell_type": "code",
   "execution_count": 20,
   "metadata": {},
   "outputs": [
    {
     "name": "stderr",
     "output_type": "stream",
     "text": [
      "1688it [00:39, 42.52it/s]\n"
     ]
    }
   ],
   "source": [
    "train_feats, valid_feats, test_feats = [], [], []\n",
    "train_labels, valid_labels, test_labels = [], [], []\n",
    "for iteration, (x, y) in tqdm(enumerate(train_loader)):\n",
    "    x, y = x.to(device), y.to(device)\n",
    "    features = model(x)\n",
    "    train_feats.append(features.cpu().detach().numpy())\n",
    "    train_labels.append(y.cpu().detach().numpy())\n",
    "    del x, y, features\n",
    "train_feats = np.concatenate(train_feats)\n",
    "train_labels = np.concatenate(train_labels)\n",
    "\n",
    "np.save('features/resnet18_finetune_2layers_train_feat.npy', train_feats)\n",
    "np.save('features/resnet18_finetune_2layers_train_label.npy', train_labels)\n",
    "\n",
    "del train_feats, train_labels"
   ]
  },
  {
   "cell_type": "code",
   "execution_count": 21,
   "metadata": {},
   "outputs": [
    {
     "name": "stderr",
     "output_type": "stream",
     "text": [
      "188it [00:04, 40.67it/s]\n"
     ]
    }
   ],
   "source": [
    "for iteration, (x, y) in tqdm(enumerate(valid_loader)):\n",
    "    x, y = x.to(device), y.to(device)\n",
    "    features = model(x)\n",
    "    valid_feats.append(features.cpu().detach().numpy())\n",
    "    valid_labels.append(y.cpu().detach().numpy())\n",
    "    del x, y, features\n",
    "valid_feats = np.concatenate(valid_feats)\n",
    "valid_labels = np.concatenate(valid_labels)\n",
    "\n",
    "\n",
    "np.save('features/resnet18_finetune_2layers_valid_feat.npy', valid_feats)\n",
    "np.save('features/resnet18_finetune_2layers_valid_label.npy', valid_labels)\n",
    "\n",
    "del valid_feats, valid_labels"
   ]
  },
  {
   "cell_type": "code",
   "execution_count": 22,
   "metadata": {},
   "outputs": [
    {
     "name": "stderr",
     "output_type": "stream",
     "text": [
      "313it [00:08, 37.25it/s]\n"
     ]
    }
   ],
   "source": [
    "for iteration, (x, y) in tqdm(enumerate(test_loader)):\n",
    "    x, y = x.to(device), y.to(device)\n",
    "    features = model(x)\n",
    "    test_feats.append(features.cpu().detach().numpy())\n",
    "    test_labels.append(y.cpu().detach().numpy())\n",
    "    del x, y, features\n",
    "test_feats = np.concatenate(test_feats)\n",
    "test_labels = np.concatenate(test_labels)\n",
    "\n",
    "np.save('features/resnet18_finetune_2layers_test_feat.npy', test_feats)\n",
    "np.save('features/resnet18_finetune_2layers_test_label.npy', test_labels)"
   ]
  },
  {
   "cell_type": "code",
   "execution_count": null,
   "metadata": {},
   "outputs": [],
   "source": []
  },
  {
   "cell_type": "markdown",
   "metadata": {},
   "source": [
    "## Stats"
   ]
  },
  {
   "cell_type": "code",
   "execution_count": 1,
   "metadata": {},
   "outputs": [],
   "source": [
    "import numpy as np\n",
    "import itertools"
   ]
  },
  {
   "cell_type": "code",
   "execution_count": 2,
   "metadata": {},
   "outputs": [],
   "source": [
    "X_train = np.load('features/resnet18_train_feat.npy')\n",
    "y_train = np.load('features/resnet18_train_label.npy')\n",
    "X_valid = np.load('features/resnet18_valid_feat.npy')\n",
    "y_valid = np.load('features/resnet18_valid_label.npy')\n",
    "X_test = np.load('features/resnet18_test_feat.npy')\n",
    "y_test = np.load('features/resnet18_test_label.npy')"
   ]
  },
  {
   "cell_type": "code",
   "execution_count": 3,
   "metadata": {},
   "outputs": [],
   "source": [
    "# global mean\n",
    "def global_mean(features):\n",
    "    return np.mean(features, axis=0)"
   ]
  },
  {
   "cell_type": "code",
   "execution_count": 4,
   "metadata": {},
   "outputs": [],
   "source": [
    "train_global_mean = global_mean(X_train)\n",
    "valid_global_mean = global_mean(X_valid)\n",
    "test_global_mean = global_mean(X_test)"
   ]
  },
  {
   "cell_type": "code",
   "execution_count": 5,
   "metadata": {},
   "outputs": [],
   "source": [
    "# class mean\n",
    "def class_mean(features, labels):\n",
    "    means, nums = np.zeros((10, 512)), np.zeros((10, 512))\n",
    "    for feat, lab in zip(features, labels):\n",
    "        means[lab] += feat\n",
    "        nums[lab] += 1\n",
    "    means /= nums\n",
    "    return means"
   ]
  },
  {
   "cell_type": "code",
   "execution_count": 6,
   "metadata": {},
   "outputs": [],
   "source": [
    "train_class_mean = class_mean(X_train, y_train)\n",
    "valid_class_mean = class_mean(X_valid, y_valid)\n",
    "test_class_mean = class_mean(X_test, y_test)"
   ]
  },
  {
   "cell_type": "code",
   "execution_count": 7,
   "metadata": {},
   "outputs": [],
   "source": [
    "train_total_cov = np.cov(X_train.T)\n",
    "valid_total_cov = np.cov(X_valid.T)\n",
    "test_total_cov = np.cov(X_test.T)"
   ]
  },
  {
   "cell_type": "code",
   "execution_count": 9,
   "metadata": {},
   "outputs": [],
   "source": [
    "# between class covariance\n",
    "def between_class_cov(cl_mean, gl_mean):\n",
    "    bet_cov = np.zeros((512, 512))\n",
    "    for i in range(10):\n",
    "        bet_cov += np.dot(np.array([cl_mean[i] - gl_mean]).T,\n",
    "                       np.array([cl_mean[i] - gl_mean]))\n",
    "    return bet_cov / 10"
   ]
  },
  {
   "cell_type": "code",
   "execution_count": 10,
   "metadata": {},
   "outputs": [],
   "source": [
    "train_bet_cov = between_class_cov(train_class_mean, train_global_mean)\n",
    "valid_bet_cov = between_class_cov(valid_class_mean, valid_global_mean)\n",
    "test_bet_cov = between_class_cov(test_class_mean, test_global_mean)"
   ]
  },
  {
   "cell_type": "code",
   "execution_count": 11,
   "metadata": {},
   "outputs": [],
   "source": [
    "# within class covariance\n",
    "def within_class_cov(features, labels, cl_mean):\n",
    "    within_cov = np.zeros((512, 512))\n",
    "    for feature, label in zip(features, labels):\n",
    "        within_cov += np.dot(np.array([feature - cl_mean[label]]).T,\n",
    "                             np.array([feature - cl_mean[label]]))\n",
    "    return within_cov / features.shape[0]"
   ]
  },
  {
   "cell_type": "code",
   "execution_count": 12,
   "metadata": {},
   "outputs": [],
   "source": [
    "train_within_cov = within_class_cov(X_train, y_train, train_class_mean)\n",
    "valid_within_cov = within_class_cov(X_valid, y_valid, valid_class_mean)\n",
    "test_within_cov = within_class_cov(X_test, y_test, test_class_mean)"
   ]
  },
  {
   "cell_type": "code",
   "execution_count": 13,
   "metadata": {},
   "outputs": [
    {
     "data": {
      "text/plain": [
       "array([[-2.79146460e-04, -7.26494666e-05, -6.29824868e-05, ...,\n",
       "        -4.46482946e-05,  4.94811845e-06,  2.53203998e-04],\n",
       "       [-7.26494666e-05,  9.31875207e-06, -4.35379703e-05, ...,\n",
       "        -4.17113775e-05,  1.52121334e-05,  9.01497705e-05],\n",
       "       [-6.29824868e-05, -4.35379703e-05, -6.37658081e-05, ...,\n",
       "        -6.68881259e-05, -2.39881258e-05,  1.57712763e-04],\n",
       "       ...,\n",
       "       [-4.46482946e-05, -4.17113775e-05, -6.68881259e-05, ...,\n",
       "         5.35703131e-06, -1.12609344e-05,  8.69779550e-05],\n",
       "       [ 4.94811845e-06,  1.52121334e-05, -2.39881258e-05, ...,\n",
       "        -1.12609344e-05,  7.28806368e-06, -6.56526292e-06],\n",
       "       [ 2.53203998e-04,  9.01497705e-05,  1.57712763e-04, ...,\n",
       "         8.69779550e-05, -6.56526292e-06, -4.26410841e-04]])"
      ]
     },
     "execution_count": 13,
     "metadata": {},
     "output_type": "execute_result"
    }
   ],
   "source": [
    "train_total_cov - (train_within_cov + train_bet_cov)"
   ]
  },
  {
   "cell_type": "code",
   "execution_count": 14,
   "metadata": {},
   "outputs": [
    {
     "data": {
      "text/plain": [
       "array([[ 3.04988760e-03,  6.97322346e-04,  7.03463467e-04, ...,\n",
       "         6.48642311e-04, -9.11328427e-05, -2.52531641e-03],\n",
       "       [ 6.97322346e-04, -6.40197377e-05,  3.87979388e-04, ...,\n",
       "         3.53745805e-04, -1.26373330e-04, -8.12151992e-04],\n",
       "       [ 7.03463467e-04,  3.87979388e-04,  6.58969987e-04, ...,\n",
       "         7.28301095e-04,  2.29466522e-04, -1.51247960e-03],\n",
       "       ...,\n",
       "       [ 6.48642311e-04,  3.53745805e-04,  7.28301095e-04, ...,\n",
       "         1.48047053e-04,  4.91956921e-05, -1.01277400e-03],\n",
       "       [-9.11328427e-05, -1.26373330e-04,  2.29466522e-04, ...,\n",
       "         4.91956921e-05, -3.24449842e-05,  5.83467353e-05],\n",
       "       [-2.52531641e-03, -8.12151992e-04, -1.51247960e-03, ...,\n",
       "        -1.01277400e-03,  5.83467353e-05,  4.26356106e-03]])"
      ]
     },
     "execution_count": 14,
     "metadata": {},
     "output_type": "execute_result"
    }
   ],
   "source": [
    "valid_total_cov - (valid_within_cov + valid_bet_cov)"
   ]
  },
  {
   "cell_type": "code",
   "execution_count": 15,
   "metadata": {},
   "outputs": [
    {
     "data": {
      "text/plain": [
       "array([[ 8.81610756e-05,  3.57438009e-06,  1.43554727e-05, ...,\n",
       "         2.14931075e-05, -5.61848015e-06, -3.40843324e-05],\n",
       "       [ 3.57438009e-06,  7.94810063e-06,  1.09573006e-06, ...,\n",
       "         2.98960302e-07,  4.56516769e-07, -4.55849313e-06],\n",
       "       [ 1.43554727e-05,  1.09573006e-06,  5.21779031e-05, ...,\n",
       "         1.61592562e-06, -4.05187792e-06, -2.36133076e-05],\n",
       "       ...,\n",
       "       [ 2.14931075e-05,  2.98960302e-07,  1.61592562e-06, ...,\n",
       "         2.83926892e-05, -5.51446742e-07, -4.63593902e-06],\n",
       "       [-5.61848015e-06,  4.56516769e-07, -4.05187792e-06, ...,\n",
       "        -5.51446742e-07,  6.96969288e-06,  7.61501460e-06],\n",
       "       [-3.40843324e-05, -4.55849313e-06, -2.36133076e-05, ...,\n",
       "        -4.63593902e-06,  7.61501460e-06,  6.72999330e-05]])"
      ]
     },
     "execution_count": 15,
     "metadata": {},
     "output_type": "execute_result"
    }
   ],
   "source": [
    "test_total_cov - (test_within_cov + test_bet_cov)"
   ]
  },
  {
   "cell_type": "code",
   "execution_count": 18,
   "metadata": {},
   "outputs": [
    {
     "name": "stdout",
     "output_type": "stream",
     "text": [
      "0.0012906090944437842\n",
      "0.01485425642853877\n",
      "0.00031263270370240903\n"
     ]
    }
   ],
   "source": [
    "print(np.max(train_total_cov - (train_within_cov + train_bet_cov)))\n",
    "print(np.max(valid_total_cov - (valid_within_cov + valid_bet_cov)))\n",
    "print(np.max(test_total_cov - (test_within_cov + test_bet_cov)))"
   ]
  },
  {
   "cell_type": "code",
   "execution_count": 19,
   "metadata": {},
   "outputs": [],
   "source": [
    "contraction_train = np.trace(np.dot(train_within_cov, train_bet_cov)) / 10\n",
    "contraction_valid = np.trace(np.dot(valid_within_cov, valid_bet_cov)) / 10\n",
    "contraction_test = np.trace(np.dot(test_within_cov, test_bet_cov)) / 10"
   ]
  },
  {
   "cell_type": "code",
   "execution_count": 20,
   "metadata": {},
   "outputs": [],
   "source": [
    "def closeness_equal_norms(cl_mean, gl_mean):\n",
    "    dist_array = np.zeros(10)\n",
    "    for i in range(10):\n",
    "        dist_array[i] = np.linalg.norm(cl_mean[i] - gl_mean)\n",
    "    return np.std(dist_array) / np.mean(dist_array)"
   ]
  },
  {
   "cell_type": "code",
   "execution_count": 21,
   "metadata": {},
   "outputs": [],
   "source": [
    "closeness_equal_norms_train = closeness_equal_norms(train_class_mean, train_global_mean)\n",
    "closeness_equal_norms_valid = closeness_equal_norms(valid_class_mean, valid_global_mean)\n",
    "closeness_equal_norms_test = closeness_equal_norms(test_class_mean, test_global_mean)"
   ]
  },
  {
   "cell_type": "code",
   "execution_count": 22,
   "metadata": {},
   "outputs": [],
   "source": [
    "# cosine similarity\n",
    "def cos_sim(vA, vB):\n",
    "    return np.dot(vA, vB) / (np.sqrt(np.dot(vA,vA)) * np.sqrt(np.dot(vB,vB)))"
   ]
  },
  {
   "cell_type": "code",
   "execution_count": 23,
   "metadata": {},
   "outputs": [],
   "source": [
    "cos_sim_list = []\n",
    "for (c1, c2) in list(itertools.combinations(range(10), 2)):\n",
    "    cos_sim_list.append(cos_sim(train_class_mean[c1]-train_global_mean, train_class_mean[c2]-train_global_mean))\n",
    "equal_angularity_train = np.std(cos_sim_list)\n",
    "closeness_maximal_angle_train = np.mean(cos_sim_list + [1]*len(cos_sim_list)) /9"
   ]
  },
  {
   "cell_type": "code",
   "execution_count": 24,
   "metadata": {},
   "outputs": [],
   "source": [
    "cos_sim_list = []\n",
    "for (c1, c2) in list(itertools.combinations(range(10), 2)):\n",
    "    cos_sim_list.append(cos_sim(valid_class_mean[c1]-valid_global_mean, valid_class_mean[c2]-valid_global_mean))\n",
    "equal_angularity_valid = np.std(cos_sim_list)\n",
    "closeness_maximal_angle_valid = np.mean(cos_sim_list + [1]*len(cos_sim_list)) /9"
   ]
  },
  {
   "cell_type": "code",
   "execution_count": 25,
   "metadata": {},
   "outputs": [],
   "source": [
    "cos_sim_list = []\n",
    "for (c1, c2) in list(itertools.combinations(range(10), 2)):\n",
    "    cos_sim_list.append(cos_sim(test_class_mean[c1]-test_global_mean, test_class_mean[c2]-test_global_mean))\n",
    "equal_angularity_test = np.std(cos_sim_list)\n",
    "closeness_maximal_angle_test = np.mean(cos_sim_list + [1]*len(cos_sim_list)) /9"
   ]
  },
  {
   "cell_type": "code",
   "execution_count": null,
   "metadata": {},
   "outputs": [],
   "source": []
  }
 ],
 "metadata": {
  "kernelspec": {
   "display_name": "Python 3",
   "language": "python",
   "name": "python3"
  },
  "language_info": {
   "codemirror_mode": {
    "name": "ipython",
    "version": 3
   },
   "file_extension": ".py",
   "mimetype": "text/x-python",
   "name": "python",
   "nbconvert_exporter": "python",
   "pygments_lexer": "ipython3",
   "version": "3.7.9"
  }
 },
 "nbformat": 4,
 "nbformat_minor": 4
}
