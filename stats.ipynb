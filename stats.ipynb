{
 "cells": [
  {
   "cell_type": "code",
   "execution_count": 1,
   "metadata": {},
   "outputs": [],
   "source": [
    "import numpy as np"
   ]
  },
  {
   "cell_type": "code",
   "execution_count": 2,
   "metadata": {},
   "outputs": [],
   "source": [
    "X_train = np.load('features/resnet18_train_feat.npy')\n",
    "y_train = np.load('features/resnet18_train_label.npy')\n",
    "X_valid = np.load('features/resnet18_valid_feat.npy')\n",
    "y_valid = np.load('features/resnet18_valid_label.npy')\n",
    "X_test = np.load('features/resnet18_test_feat.npy')\n",
    "y_test = np.load('features/resnet18_test_label.npy')"
   ]
  },
  {
   "cell_type": "code",
   "execution_count": 3,
   "metadata": {},
   "outputs": [],
   "source": [
    "# global mean\n",
    "def global_mean(features):\n",
    "    return np.mean(features, axis=0)"
   ]
  },
  {
   "cell_type": "code",
   "execution_count": 4,
   "metadata": {},
   "outputs": [],
   "source": [
    "train_global_mean = global_mean(X_train)\n",
    "valid_global_mean = global_mean(X_valid)\n",
    "test_global_mean = global_mean(X_test)"
   ]
  },
  {
   "cell_type": "code",
   "execution_count": 5,
   "metadata": {},
   "outputs": [],
   "source": [
    "# class mean\n",
    "def class_mean(features, labels):\n",
    "    means, nums = np.zeros((10, 512)), np.zeros((10, 512))\n",
    "    for feat, lab in zip(features, labels):\n",
    "        means[lab] += feat\n",
    "        nums[lab] += 1\n",
    "    means /= nums\n",
    "    return means"
   ]
  },
  {
   "cell_type": "code",
   "execution_count": 6,
   "metadata": {},
   "outputs": [],
   "source": [
    "train_class_mean = class_mean(X_train, y_train)\n",
    "valid_class_mean = class_mean(X_valid, y_valid)\n",
    "test_class_mean = class_mean(X_test, y_test)"
   ]
  },
  {
   "cell_type": "code",
   "execution_count": 13,
   "metadata": {},
   "outputs": [],
   "source": [
    "train_total_cov = np.cov(X_train.T)\n",
    "valid_total_cov = np.cov(X_valid.T)\n",
    "test_total_cov = np.cov(X_test.T)"
   ]
  },
  {
   "cell_type": "code",
   "execution_count": 14,
   "metadata": {},
   "outputs": [
    {
     "data": {
      "text/plain": [
       "(512, 512)"
      ]
     },
     "execution_count": 14,
     "metadata": {},
     "output_type": "execute_result"
    }
   ],
   "source": [
    "valid_total_cov.shape"
   ]
  },
  {
   "cell_type": "code",
   "execution_count": 25,
   "metadata": {},
   "outputs": [
    {
     "data": {
      "text/plain": [
       "(512, 512)"
      ]
     },
     "execution_count": 25,
     "metadata": {},
     "output_type": "execute_result"
    }
   ],
   "source": [
    "np.dot(np.array([train_class_mean[0] - train_global_mean]).T,\n",
    "           np.array([train_class_mean[0] - train_global_mean])).shape"
   ]
  },
  {
   "cell_type": "code",
   "execution_count": 26,
   "metadata": {},
   "outputs": [],
   "source": [
    "train_bet_cov = np.zeros((512, 512))\n",
    "for i in range(10):\n",
    "    train_bet_cov += np.dot(np.array([train_class_mean[i] - train_global_mean]).T,\n",
    "                       np.array([train_class_mean[i] - train_global_mean]))\n",
    "train_bet_cov /= 10"
   ]
  },
  {
   "cell_type": "code",
   "execution_count": 28,
   "metadata": {},
   "outputs": [],
   "source": [
    "valid_bet_cov = np.zeros((512, 512))\n",
    "for i in range(10):\n",
    "    valid_bet_cov += np.dot(np.array([valid_class_mean[i] - valid_global_mean]).T,\n",
    "                       np.array([valid_class_mean[i] - valid_global_mean]))\n",
    "valid_bet_cov /= 10"
   ]
  },
  {
   "cell_type": "code",
   "execution_count": 29,
   "metadata": {},
   "outputs": [],
   "source": [
    "test_bet_cov = np.zeros((512, 512))\n",
    "for i in range(10):\n",
    "    test_bet_cov += np.dot(np.array([test_class_mean[i] - test_global_mean]).T,\n",
    "                       np.array([test_class_mean[i] - test_global_mean]))\n",
    "test_bet_cov /= 10"
   ]
  },
  {
   "cell_type": "code",
   "execution_count": 30,
   "metadata": {},
   "outputs": [],
   "source": [
    "train_within_cov = np.zeros((512, 512))\n",
    "for feature, label in zip(X_train, y_train):\n",
    "    train_within_cov += np.dot(np.array([feature - train_class_mean[label]]).T,\n",
    "                       np.array([feature - train_class_mean[label]]))\n",
    "train_within_cov /= X_train.shape[0]"
   ]
  },
  {
   "cell_type": "code",
   "execution_count": 36,
   "metadata": {},
   "outputs": [],
   "source": [
    "valid_within_cov = np.zeros((512, 512))\n",
    "for feature, label in zip(X_valid, y_valid):\n",
    "    valid_within_cov += np.dot(np.array([feature - valid_class_mean[label]]).T,\n",
    "                       np.array([feature - valid_class_mean[label]]))\n",
    "valid_within_cov /= X_valid.shape[0]"
   ]
  },
  {
   "cell_type": "code",
   "execution_count": 35,
   "metadata": {},
   "outputs": [],
   "source": [
    "test_within_cov = np.zeros((512, 512))\n",
    "for feature, label in zip(X_test, y_test):\n",
    "    test_within_cov += np.dot(np.array([feature - test_class_mean[label]]).T,\n",
    "                       np.array([feature - test_class_mean[label]]))\n",
    "test_within_cov /= X_test.shape[0]"
   ]
  },
  {
   "cell_type": "code",
   "execution_count": 34,
   "metadata": {},
   "outputs": [
    {
     "data": {
      "text/plain": [
       "array([[-2.79146460e-04, -7.26494666e-05, -6.29824868e-05, ...,\n",
       "        -4.46482946e-05,  4.94811845e-06,  2.53203998e-04],\n",
       "       [-7.26494666e-05,  9.31875207e-06, -4.35379703e-05, ...,\n",
       "        -4.17113775e-05,  1.52121334e-05,  9.01497705e-05],\n",
       "       [-6.29824868e-05, -4.35379703e-05, -6.37658081e-05, ...,\n",
       "        -6.68881259e-05, -2.39881258e-05,  1.57712763e-04],\n",
       "       ...,\n",
       "       [-4.46482946e-05, -4.17113775e-05, -6.68881259e-05, ...,\n",
       "         5.35703131e-06, -1.12609344e-05,  8.69779550e-05],\n",
       "       [ 4.94811845e-06,  1.52121334e-05, -2.39881258e-05, ...,\n",
       "        -1.12609344e-05,  7.28806368e-06, -6.56526292e-06],\n",
       "       [ 2.53203998e-04,  9.01497705e-05,  1.57712763e-04, ...,\n",
       "         8.69779550e-05, -6.56526292e-06, -4.26410841e-04]])"
      ]
     },
     "execution_count": 34,
     "metadata": {},
     "output_type": "execute_result"
    }
   ],
   "source": [
    "train_total_cov - (train_within_cov + train_bet_cov)"
   ]
  },
  {
   "cell_type": "code",
   "execution_count": 37,
   "metadata": {},
   "outputs": [
    {
     "data": {
      "text/plain": [
       "array([[ 3.04988760e-03,  6.97322346e-04,  7.03463467e-04, ...,\n",
       "         6.48642311e-04, -9.11328427e-05, -2.52531641e-03],\n",
       "       [ 6.97322346e-04, -6.40197377e-05,  3.87979388e-04, ...,\n",
       "         3.53745805e-04, -1.26373330e-04, -8.12151992e-04],\n",
       "       [ 7.03463467e-04,  3.87979388e-04,  6.58969987e-04, ...,\n",
       "         7.28301095e-04,  2.29466522e-04, -1.51247960e-03],\n",
       "       ...,\n",
       "       [ 6.48642311e-04,  3.53745805e-04,  7.28301095e-04, ...,\n",
       "         1.48047053e-04,  4.91956921e-05, -1.01277400e-03],\n",
       "       [-9.11328427e-05, -1.26373330e-04,  2.29466522e-04, ...,\n",
       "         4.91956921e-05, -3.24449842e-05,  5.83467353e-05],\n",
       "       [-2.52531641e-03, -8.12151992e-04, -1.51247960e-03, ...,\n",
       "        -1.01277400e-03,  5.83467353e-05,  4.26356106e-03]])"
      ]
     },
     "execution_count": 37,
     "metadata": {},
     "output_type": "execute_result"
    }
   ],
   "source": [
    "valid_total_cov - (valid_within_cov + valid_bet_cov)"
   ]
  },
  {
   "cell_type": "code",
   "execution_count": 38,
   "metadata": {},
   "outputs": [
    {
     "data": {
      "text/plain": [
       "array([[ 8.81610756e-05,  3.57438009e-06,  1.43554727e-05, ...,\n",
       "         2.14931075e-05, -5.61848015e-06, -3.40843324e-05],\n",
       "       [ 3.57438009e-06,  7.94810063e-06,  1.09573006e-06, ...,\n",
       "         2.98960302e-07,  4.56516769e-07, -4.55849313e-06],\n",
       "       [ 1.43554727e-05,  1.09573006e-06,  5.21779031e-05, ...,\n",
       "         1.61592562e-06, -4.05187792e-06, -2.36133076e-05],\n",
       "       ...,\n",
       "       [ 2.14931075e-05,  2.98960302e-07,  1.61592562e-06, ...,\n",
       "         2.83926892e-05, -5.51446742e-07, -4.63593902e-06],\n",
       "       [-5.61848015e-06,  4.56516769e-07, -4.05187792e-06, ...,\n",
       "        -5.51446742e-07,  6.96969288e-06,  7.61501460e-06],\n",
       "       [-3.40843324e-05, -4.55849313e-06, -2.36133076e-05, ...,\n",
       "        -4.63593902e-06,  7.61501460e-06,  6.72999330e-05]])"
      ]
     },
     "execution_count": 38,
     "metadata": {},
     "output_type": "execute_result"
    }
   ],
   "source": [
    "test_total_cov - (test_within_cov + test_bet_cov)"
   ]
  },
  {
   "cell_type": "code",
   "execution_count": 39,
   "metadata": {},
   "outputs": [],
   "source": [
    "contraction_train = np.trace(np.dot(train_within_cov, train_bet_cov)) / 10\n",
    "contraction_valid = np.trace(np.dot(valid_within_cov, valid_bet_cov)) / 10\n",
    "contraction_test = np.trace(np.dot(test_within_cov, test_bet_cov)) / 10"
   ]
  },
  {
   "cell_type": "code",
   "execution_count": 41,
   "metadata": {},
   "outputs": [
    {
     "data": {
      "text/plain": [
       "(21.90280820873837, 21.604902924682, 22.508009202731806)"
      ]
     },
     "execution_count": 41,
     "metadata": {},
     "output_type": "execute_result"
    }
   ],
   "source": [
    "contraction_train, contraction_valid, contraction_test"
   ]
  },
  {
   "cell_type": "code",
   "execution_count": 43,
   "metadata": {},
   "outputs": [],
   "source": [
    "train_dist_array = np.zeros(10)\n",
    "for i in range(10):\n",
    "    train_dist_array[i] = np.linalg.norm(train_class_mean[i] - train_global_mean)\n",
    "closeness_train = np.std(train_dist_array) / np.mean(train_dist_array)"
   ]
  },
  {
   "cell_type": "code",
   "execution_count": 45,
   "metadata": {},
   "outputs": [],
   "source": [
    "valid_dist_array = np.zeros(10)\n",
    "for i in range(10):\n",
    "    valid_dist_array[i] = np.linalg.norm(valid_class_mean[i] - valid_global_mean)\n",
    "closeness_valid = np.std(valid_dist_array) / np.mean(valid_dist_array)"
   ]
  },
  {
   "cell_type": "code",
   "execution_count": 46,
   "metadata": {},
   "outputs": [],
   "source": [
    "test_dist_array = np.zeros(10)\n",
    "for i in range(10):\n",
    "    test_dist_array[i] = np.linalg.norm(test_class_mean[i] - test_global_mean)\n",
    "closeness_test = np.std(test_dist_array) / np.mean(test_dist_array)"
   ]
  },
  {
   "cell_type": "code",
   "execution_count": 47,
   "metadata": {},
   "outputs": [
    {
     "data": {
      "text/plain": [
       "(0.14924154479150809, 0.15332743294974382, 0.15745918588761434)"
      ]
     },
     "execution_count": 47,
     "metadata": {},
     "output_type": "execute_result"
    }
   ],
   "source": [
    "closeness_train, closeness_valid, closeness_test"
   ]
  },
  {
   "cell_type": "code",
   "execution_count": 48,
   "metadata": {},
   "outputs": [],
   "source": [
    "import itertools"
   ]
  },
  {
   "cell_type": "code",
   "execution_count": 54,
   "metadata": {},
   "outputs": [],
   "source": [
    "def cos_sim(vA, vB):\n",
    "    return np.dot(vA, vB) / (np.sqrt(np.dot(vA,vA)) * np.sqrt(np.dot(vB,vB)))"
   ]
  },
  {
   "cell_type": "code",
   "execution_count": 67,
   "metadata": {},
   "outputs": [],
   "source": [
    "cos_sim_list = []\n",
    "for (c1, c2) in list(itertools.combinations(range(10), 2)):\n",
    "    cos_sim_list.append(cos_sim(train_class_mean[c1]-train_global_mean, train_class_mean[c2]-train_global_mean))\n",
    "equal_angularity_train = np.std(cos_sim_list)\n",
    "closeness_maximal_angle_train = np.mean(cos_sim_list + [1]*len(cos_sim_list)) /9"
   ]
  },
  {
   "cell_type": "code",
   "execution_count": 68,
   "metadata": {},
   "outputs": [],
   "source": [
    "cos_sim_list = []\n",
    "for (c1, c2) in list(itertools.combinations(range(10), 2)):\n",
    "    cos_sim_list.append(cos_sim(valid_class_mean[c1]-valid_global_mean, valid_class_mean[c2]-valid_global_mean))\n",
    "equal_angularity_valid = np.std(cos_sim_list)\n",
    "closeness_maximal_angle_valid = np.mean(cos_sim_list + [1]*len(cos_sim_list)) /9"
   ]
  },
  {
   "cell_type": "code",
   "execution_count": 69,
   "metadata": {},
   "outputs": [],
   "source": [
    "cos_sim_list = []\n",
    "for (c1, c2) in list(itertools.combinations(range(10), 2)):\n",
    "    cos_sim_list.append(cos_sim(test_class_mean[c1]-test_global_mean, test_class_mean[c2]-test_global_mean))\n",
    "equal_angularity_test = np.std(cos_sim_list)\n",
    "closeness_maximal_angle_test = np.mean(cos_sim_list + [1]*len(cos_sim_list)) /9"
   ]
  },
  {
   "cell_type": "code",
   "execution_count": 65,
   "metadata": {},
   "outputs": [
    {
     "data": {
      "text/plain": [
       "(0.416359624450228, 0.41449276832629806, 0.4226815211078981)"
      ]
     },
     "execution_count": 65,
     "metadata": {},
     "output_type": "execute_result"
    }
   ],
   "source": [
    "equal_angularity_train, equal_angularity_valid, equal_angularity_test"
   ]
  },
  {
   "cell_type": "code",
   "execution_count": 70,
   "metadata": {},
   "outputs": [
    {
     "data": {
      "text/plain": [
       "(0.04973388706384904, 0.04971928522050863, 0.04978007179432273)"
      ]
     },
     "execution_count": 70,
     "metadata": {},
     "output_type": "execute_result"
    }
   ],
   "source": [
    "closeness_maximal_angle_train, closeness_maximal_angle_valid, closeness_maximal_angle_test"
   ]
  },
  {
   "cell_type": "code",
   "execution_count": null,
   "metadata": {},
   "outputs": [],
   "source": []
  }
 ],
 "metadata": {
  "kernelspec": {
   "display_name": "Python 3",
   "language": "python",
   "name": "python3"
  },
  "language_info": {
   "codemirror_mode": {
    "name": "ipython",
    "version": 3
   },
   "file_extension": ".py",
   "mimetype": "text/x-python",
   "name": "python",
   "nbconvert_exporter": "python",
   "pygments_lexer": "ipython3",
   "version": "3.7.9"
  }
 },
 "nbformat": 4,
 "nbformat_minor": 4
}
