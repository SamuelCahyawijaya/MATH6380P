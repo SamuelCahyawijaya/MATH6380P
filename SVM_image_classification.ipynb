{
 "cells": [
  {
   "cell_type": "code",
   "execution_count": 1,
   "metadata": {},
   "outputs": [],
   "source": [
    "from pathlib import Path\n",
    "import numpy as np\n",
    "from sklearn import svm, metrics, datasets\n",
    "from sklearn.utils import Bunch\n",
    "# from sklearn.model_selection import GridSearchCV\n",
    "from sklearn.ensemble import BaggingClassifier, RandomForestClassifier\n",
    "from sklearn.multiclass import OneVsRestClassifier\n",
    "import time\n",
    "import os\n",
    "import torch\n",
    "import torch.nn as nn\n",
    "import torch.optim as optim\n",
    "import torchvision\n",
    "from torchvision import transforms\n",
    "from tqdm import tqdm\n",
    "import pickle"
   ]
  },
  {
   "cell_type": "code",
   "execution_count": 3,
   "metadata": {},
   "outputs": [],
   "source": [
    "def load_feature_files(args, feature_path):\n",
    "    # Set random seed\n",
    "    torch.random.manual_seed(args['random_seed'])\n",
    "\n",
    "    # Define transformation\n",
    "    test_transform = transforms.Compose([\n",
    "        transforms.ToTensor(),\n",
    "        transforms.Normalize((0.5,), (0.5,))\n",
    "    ])\n",
    "\n",
    "    train_valid_transform = test_transform\n",
    "    if args['augmentation']:\n",
    "        train_valid_transform = transforms.Compose([\n",
    "            transforms.RandomResizedCrop((28,28)),\n",
    "            transforms.ColorJitter(brightness=0.2, contrast=0.2, saturation=0.2, hue=0.2),\n",
    "            transforms.RandomHorizontalFlip(),\n",
    "            transforms.RandomVerticalFlip(),\n",
    "            transforms.ToTensor(),\n",
    "            transforms.RandomErasing(),\n",
    "            transforms.Normalize((0.5,), (0.5,))\n",
    "        ])\n",
    "\n",
    "    # Load dataset\n",
    "    require_download = os.path.exists('./dataset')\n",
    "    train_valid_dataset = torchvision.datasets.FashionMNIST('./dataset', train=True, transform=train_valid_transform, download=True)\n",
    "    test_dataset = torchvision.datasets.FashionMNIST('./dataset', train=False, transform=test_transform, download=True)\n",
    "\n",
    "    # Split train and validation\n",
    "    torch.random.manual_seed(args['random_seed'])\n",
    "    train_dataset, valid_dataset = torch.utils.data.random_split(train_valid_dataset, [54000, 6000])\n",
    "\n",
    "    # Generate dataloader\n",
    "    train_loader = torch.utils.data.DataLoader(train_dataset, batch_size=args['batch_size'], shuffle=True, num_workers=args['num_worker'])\n",
    "    valid_loader = torch.utils.data.DataLoader(valid_dataset, batch_size=args['batch_size'], shuffle=False, num_workers=args['num_worker'])\n",
    "    test_loader = torch.utils.data.DataLoader(test_dataset, batch_size=args['batch_size'], shuffle=False, num_workers=args['num_worker'])\n",
    "    \n",
    "    train_ys, valid_ys, test_ys = [], [], []\n",
    "    # Train\n",
    "    for x, y in tqdm(train_loader):\n",
    "        train_ys.append(y)\n",
    "    train_ys = torch.cat(train_ys, dim=0)\n",
    "    train_ys = np.array(train_ys)\n",
    "\n",
    "    # Valid\n",
    "    for x, y in tqdm(valid_loader):\n",
    "        valid_ys.append(y)\n",
    "    valid_ys = torch.cat(valid_ys, dim=0)\n",
    "    valid_ys = np.array(valid_ys)\n",
    "\n",
    "    # Test\n",
    "    for x, y in tqdm(test_loader):\n",
    "        test_ys.append(y)\n",
    "    test_ys = torch.cat(test_ys, dim=0)\n",
    "    test_ys = np.array(test_ys)\n",
    "    \n",
    "    (train_feats, valid_feats, test_feats) = torch.load(feature_path)\n",
    "    \n",
    "    train_feats_flat = torch.flatten(train_feats, start_dim=1, end_dim=-1)\n",
    "    train_feats_flat = np.array(train_feats_flat.cpu())\n",
    "    valid_feats_flat = torch.flatten(valid_feats, start_dim=1, end_dim=-1)\n",
    "    valid_feats_flat = np.array(valid_feats_flat.cpu())\n",
    "    test_feats_flat = torch.flatten(test_feats, start_dim=1, end_dim=-1)\n",
    "    test_feats_flat = np.array(test_feats_flat.cpu())\n",
    "    \n",
    "\n",
    "    return Bunch(train=(train_feats_flat, train_ys),\n",
    "                 valid=(valid_feats_flat, valid_ys),\n",
    "                 test=(test_feats_flat, test_ys))"
   ]
  },
  {
   "cell_type": "code",
   "execution_count": 6,
   "metadata": {},
   "outputs": [],
   "source": [
    "args = {\n",
    "    'batch_size': 256,\n",
    "    'num_worker': 32,\n",
    "    'random_seed': 8771795,\n",
    "    'augmentation': False,\n",
    "    'num_epoch': 10,\n",
    "    'device': 'cuda'\n",
    "}\n",
    "\n",
    "# dataset = load_feature_files(args, 'features/scaterring_J4.pt')"
   ]
  },
  {
   "cell_type": "code",
   "execution_count": 7,
   "metadata": {},
   "outputs": [
    {
     "name": "stderr",
     "output_type": "stream",
     "text": [
      "100%|██████████| 211/211 [00:01<00:00, 190.12it/s]\n",
      "100%|██████████| 24/24 [00:00<00:00, 60.72it/s]\n",
      "100%|██████████| 40/40 [00:00<00:00, 92.41it/s]\n",
      "100%|██████████| 211/211 [00:01<00:00, 125.38it/s]\n",
      "100%|██████████| 24/24 [00:01<00:00, 21.29it/s]\n",
      "100%|██████████| 40/40 [00:01<00:00, 35.80it/s]\n",
      "100%|██████████| 211/211 [00:01<00:00, 121.32it/s]\n",
      "100%|██████████| 24/24 [00:01<00:00, 21.05it/s]\n",
      "100%|██████████| 40/40 [00:01<00:00, 33.88it/s]\n",
      "100%|██████████| 211/211 [00:01<00:00, 122.24it/s]\n",
      "100%|██████████| 24/24 [00:01<00:00, 21.30it/s]\n",
      "100%|██████████| 40/40 [00:01<00:00, 34.45it/s]\n"
     ]
    }
   ],
   "source": [
    "for j in range(1,5):\n",
    "    with open('dataset/'+str(j)+'.pkl', 'wb') as f:\n",
    "        dataset = load_feature_files(args, 'features/scaterring_J'+str(j)+'.pt')\n",
    "        pickle.dump(dataset,f)"
   ]
  },
  {
   "cell_type": "code",
   "execution_count": 4,
   "metadata": {},
   "outputs": [
    {
     "name": "stdout",
     "output_type": "stream",
     "text": [
      "Bagging SVC 744.9581112861633\n"
     ]
    }
   ],
   "source": [
    "# with open('dataset/1.pkl', 'rb') as f:\n",
    "#     dataset = pickle.load(f)\n",
    "\n",
    "# n_estimators = 10\n",
    "# start = time.time()\n",
    "# clf = OneVsRestClassifier(BaggingClassifier(svm.SVC(kernel='linear', probability=True), max_samples=1.0 / n_estimators, n_estimators=n_estimators), n_jobs=-1)\n",
    "# clf.fit(dataset.train[0], dataset.train[1])\n",
    "# end = time.time()\n",
    "# print(\"Bagging SVC\", end - start)"
   ]
  },
  {
   "cell_type": "code",
   "execution_count": null,
   "metadata": {},
   "outputs": [],
   "source": [
    "fout = open('result','w')\n",
    "for j in range(1,5):\n",
    "    with open('dataset/'+str(j)+'.pkl', 'rb') as f:\n",
    "        dataset = pickle.load(f)\n",
    "\n",
    "#     svc = svm.SVC()\n",
    "#     svc.fit(dataset.train[0], dataset.train[1])\n",
    "#     y_pred = svc.predict(dataset.test[0])\n",
    "\n",
    "    n_estimators = 10\n",
    "    start = time.time()\n",
    "    clf = OneVsRestClassifier(BaggingClassifier(svm.SVC(kernel='linear', probability=True), max_samples=1.0 / n_estimators, n_estimators=n_estimators), n_jobs=-1)\n",
    "    clf.fit(dataset.train[0], dataset.train[1])\n",
    "    end = time.time()\n",
    "    print(\"Bagging SVC\", end - start)\n",
    "    \n",
    "    start = time.time()\n",
    "    y_pred = clf.predict(dataset.test[0])\n",
    "    print(\"Classification report for - \\n{}:\\n{}\\n\".format(\n",
    "        str(j), metrics.classification_report(dataset.test[1], y_pred)))\n",
    "    end = time.time()\n",
    "    print(\"predict\", end - start)\n",
    "    \n",
    "    fout.write(\"Classification report for - \\n{}:\\n{}\\n\".format(\n",
    "        str(j), metrics.classification_report(dataset.test[1], y_pred)))\n",
    "    \n",
    "fout.close()   "
   ]
  },
  {
   "cell_type": "code",
   "execution_count": null,
   "metadata": {},
   "outputs": [],
   "source": []
  }
 ],
 "metadata": {
  "kernelspec": {
   "display_name": "Python [conda env:math6380]",
   "language": "python",
   "name": "conda-env-math6380-py"
  },
  "language_info": {
   "codemirror_mode": {
    "name": "ipython",
    "version": 3
   },
   "file_extension": ".py",
   "mimetype": "text/x-python",
   "name": "python",
   "nbconvert_exporter": "python",
   "pygments_lexer": "ipython3",
   "version": "3.6.12"
  }
 },
 "nbformat": 4,
 "nbformat_minor": 4
}
