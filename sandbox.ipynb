{
 "cells": [
  {
   "cell_type": "code",
   "execution_count": null,
   "metadata": {},
   "outputs": [],
   "source": [
    "import os\n",
    "import torch\n",
    "import torch.nn as nn\n",
    "import torch.optim as optim\n",
    "import torchvision\n",
    "from torchvision import transforms\n",
    "from tqdm import tqdm"
   ]
  },
  {
   "cell_type": "code",
   "execution_count": null,
   "metadata": {},
   "outputs": [],
   "source": [
    "args = {\n",
    "    'learning_rate': 1e-3,\n",
    "    'batch_size': 8,\n",
    "    'num_worker': 8,\n",
    "    'random_seed': 8771795,\n",
    "    'augmentation': True,\n",
    "    'num_epoch': 10,\n",
    "    'device': 'cuda'\n",
    "}"
   ]
  },
  {
   "cell_type": "code",
   "execution_count": null,
   "metadata": {},
   "outputs": [],
   "source": [
    "# Set random seed\n",
    "torch.random.manual_seed(args['random_seed'])\n",
    "\n",
    "# Define transformation\n",
    "test_transform = transforms.Compose([\n",
    "    transforms.ToTensor(),\n",
    "    transforms.Normalize((0.5,), (0.5,))\n",
    "])\n",
    "\n",
    "train_valid_transform = test_transform\n",
    "if args['augmentation']:\n",
    "    train_valid_transform = transforms.Compose([\n",
    "        transforms.RandomResizedCrop((28,28)),\n",
    "        transforms.ColorJitter(brightness=0.2, contrast=0.2, saturation=0.2, hue=0.2),\n",
    "        transforms.RandomHorizontalFlip(),\n",
    "        transforms.RandomVerticalFlip(),\n",
    "        transforms.ToTensor(),\n",
    "        transforms.RandomErasing(),\n",
    "        transforms.Normalize((0.5,), (0.5,))\n",
    "    ])\n",
    "\n",
    "# Load dataset\n",
    "require_download = os.path.exists('./dataset')\n",
    "train_valid_dataset = torchvision.datasets.FashionMNIST('./dataset', train=True, transform=train_valid_transform, download=True)\n",
    "test_dataset = torchvision.datasets.FashionMNIST('./dataset', train=False, transform=test_transform, download=True)\n",
    "\n",
    "# Split train and validation\n",
    "torch.random.manual_seed(args['random_seed'])\n",
    "train_dataset, valid_dataset = torch.utils.data.random_split(train_valid_dataset, [54000, 6000])\n",
    "\n",
    "# Generate dataloader\n",
    "train_loader = torch.utils.data.DataLoader(train_dataset, batch_size=args['batch_size'], shuffle=True, num_workers=args['num_worker'])\n",
    "valid_loader = torch.utils.data.DataLoader(valid_dataset, batch_size=args['batch_size'], shuffle=False, num_workers=args['num_worker'])\n",
    "test_loader = torch.utils.data.DataLoader(test_dataset, batch_size=args['batch_size'], shuffle=False, num_workers=args['num_worker'])"
   ]
  },
  {
   "cell_type": "code",
   "execution_count": null,
   "metadata": {},
   "outputs": [],
   "source": [
    "model = torchvision.models.resnext50_32x4d(pretrained=True).to(args['device'])\n",
    "criterion = nn.BCELoss().to(args['device'])\n",
    "optimizer = optim.Adam(model.parameters(), lr=args['learning_rate'])\n",
    "\n",
    "best_metric = 0.0\n",
    "best_state_dict = model.state_dict()\n",
    "for i in range(args['num_epoch']):\n",
    "    # Train\n",
    "    model.train()\n",
    "    torch.set_grad_enabled(False)\n",
    "    for x, y in tqdm(train_loader):\n",
    "        x, y = x.to(args['device']), y.to(args['device'])\n",
    "        ... # TODO        \n",
    "    \n",
    "    # Valid\n",
    "    model.eval()\n",
    "    torch.set_grad_enabled(False)\n",
    "    for x, y in tqdm(valid_loader):\n",
    "        x, y = x.to(args['device']), y.to(args['device'])\n",
    "        ... # TODO        \n",
    "        valid_metric = 1.0 # TODO\n",
    "    \n",
    "    # Choose best Validation Metric\n",
    "    if best_metric <= valid_metric:\n",
    "        best_metric = valid_metric\n",
    "        best_state_dict = model.state_dict()        \n",
    "    \n",
    "# Test\n",
    "model.load_state_dict(best_state_dict)\n",
    "for x, y in tqdm(test_loader):\n",
    "    x, y = x.to(args['device']), y.to(args['device'])\n",
    "    ... # TODO        \n",
    "    test_metric = 1.0 # TODO"
   ]
  },
  {
   "cell_type": "code",
   "execution_count": null,
   "metadata": {},
   "outputs": [],
   "source": []
  }
 ],
 "metadata": {
  "kernelspec": {
   "display_name": "Python 3",
   "language": "python",
   "name": "python3"
  },
  "language_info": {
   "codemirror_mode": {
    "name": "ipython",
    "version": 3
   },
   "file_extension": ".py",
   "mimetype": "text/x-python",
   "name": "python",
   "nbconvert_exporter": "python",
   "pygments_lexer": "ipython3",
   "version": "3.7.4"
  }
 },
 "nbformat": 4,
 "nbformat_minor": 4
}
